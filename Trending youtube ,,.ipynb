{
 "cells": [
  {
   "cell_type": "code",
   "execution_count": 1,
   "id": "fac228aa",
   "metadata": {},
   "outputs": [
    {
     "name": "stdout",
     "output_type": "stream",
     "text": [
      "Requirement already satisfied: imblearn in c:\\users\\96650\\anaconda3\\lib\\site-packages (0.0)\n",
      "Requirement already satisfied: imbalanced-learn in c:\\users\\96650\\anaconda3\\lib\\site-packages (from imblearn) (0.8.1)\n",
      "Requirement already satisfied: joblib>=0.11 in c:\\users\\96650\\anaconda3\\lib\\site-packages (from imbalanced-learn->imblearn) (1.0.1)\n",
      "Requirement already satisfied: numpy>=1.13.3 in c:\\users\\96650\\anaconda3\\lib\\site-packages (from imbalanced-learn->imblearn) (1.20.1)\n",
      "Requirement already satisfied: scipy>=0.19.1 in c:\\users\\96650\\anaconda3\\lib\\site-packages (from imbalanced-learn->imblearn) (1.6.2)\n",
      "Requirement already satisfied: scikit-learn>=0.24 in c:\\users\\96650\\anaconda3\\lib\\site-packages (from imbalanced-learn->imblearn) (1.0.1)\n",
      "Requirement already satisfied: threadpoolctl>=2.0.0 in c:\\users\\96650\\anaconda3\\lib\\site-packages (from scikit-learn>=0.24->imbalanced-learn->imblearn) (2.1.0)\n",
      "Note: you may need to restart the kernel to use updated packages.\n"
     ]
    }
   ],
   "source": [
    "pip install --upgrade imblearn"
   ]
  },
  {
   "cell_type": "code",
   "execution_count": 2,
   "id": "1633c9f1",
   "metadata": {},
   "outputs": [
    {
     "name": "stdout",
     "output_type": "stream",
     "text": [
      "Collecting glove_python\n",
      "  Using cached glove_python-0.1.0.tar.gz (263 kB)\n",
      "Requirement already satisfied: numpy in c:\\users\\96650\\anaconda3\\lib\\site-packages (from glove_python) (1.20.1)\n",
      "Requirement already satisfied: scipy in c:\\users\\96650\\anaconda3\\lib\\site-packages (from glove_python) (1.6.2)\n",
      "Building wheels for collected packages: glove-python\n",
      "  Building wheel for glove-python (setup.py): started\n",
      "  Building wheel for glove-python (setup.py): finished with status 'error'\n",
      "  Running setup.py clean for glove-python\n",
      "Failed to build glove-python\n",
      "Installing collected packages: glove-python\n",
      "    Running setup.py install for glove-python: started\n",
      "    Running setup.py install for glove-python: finished with status 'error'\n",
      "Note: you may need to restart the kernel to use updated packages.\n"
     ]
    },
    {
     "name": "stderr",
     "output_type": "stream",
     "text": [
      "  ERROR: Command errored out with exit status 1:\n",
      "   command: 'C:\\Users\\96650\\anaconda3\\python.exe' -u -c 'import sys, setuptools, tokenize; sys.argv[0] = '\"'\"'C:\\\\Users\\\\96650\\\\AppData\\\\Local\\\\Temp\\\\pip-install-1pyiae_x\\\\glove-python_5e052991609f4c3eb7eeb9e90b609245\\\\setup.py'\"'\"'; __file__='\"'\"'C:\\\\Users\\\\96650\\\\AppData\\\\Local\\\\Temp\\\\pip-install-1pyiae_x\\\\glove-python_5e052991609f4c3eb7eeb9e90b609245\\\\setup.py'\"'\"';f=getattr(tokenize, '\"'\"'open'\"'\"', open)(__file__);code=f.read().replace('\"'\"'\\r\\n'\"'\"', '\"'\"'\\n'\"'\"');f.close();exec(compile(code, __file__, '\"'\"'exec'\"'\"'))' bdist_wheel -d 'C:\\Users\\96650\\AppData\\Local\\Temp\\pip-wheel-0b8v3_cl'\n",
      "       cwd: C:\\Users\\96650\\AppData\\Local\\Temp\\pip-install-1pyiae_x\\glove-python_5e052991609f4c3eb7eeb9e90b609245\\\n",
      "  Complete output (12 lines):\n",
      "  running bdist_wheel\n",
      "  running build\n",
      "  running build_py\n",
      "  creating build\n",
      "  creating build\\lib.win-amd64-3.8\n",
      "  creating build\\lib.win-amd64-3.8\\glove\n",
      "  copying glove\\corpus.py -> build\\lib.win-amd64-3.8\\glove\n",
      "  copying glove\\glove.py -> build\\lib.win-amd64-3.8\\glove\n",
      "  copying glove\\__init__.py -> build\\lib.win-amd64-3.8\\glove\n",
      "  running build_ext\n",
      "  building 'glove.glove_cython' extension\n",
      "  error: Microsoft Visual C++ 14.0 or greater is required. Get it with \"Microsoft C++ Build Tools\": https://visualstudio.microsoft.com/visual-cpp-build-tools/\n",
      "  ----------------------------------------\n",
      "  ERROR: Failed building wheel for glove-python\n",
      "  ERROR: Command errored out with exit status 1:\n",
      "   command: 'C:\\Users\\96650\\anaconda3\\python.exe' -u -c 'import sys, setuptools, tokenize; sys.argv[0] = '\"'\"'C:\\\\Users\\\\96650\\\\AppData\\\\Local\\\\Temp\\\\pip-install-1pyiae_x\\\\glove-python_5e052991609f4c3eb7eeb9e90b609245\\\\setup.py'\"'\"'; __file__='\"'\"'C:\\\\Users\\\\96650\\\\AppData\\\\Local\\\\Temp\\\\pip-install-1pyiae_x\\\\glove-python_5e052991609f4c3eb7eeb9e90b609245\\\\setup.py'\"'\"';f=getattr(tokenize, '\"'\"'open'\"'\"', open)(__file__);code=f.read().replace('\"'\"'\\r\\n'\"'\"', '\"'\"'\\n'\"'\"');f.close();exec(compile(code, __file__, '\"'\"'exec'\"'\"'))' clean --all\n",
      "       cwd: C:\\Users\\96650\\AppData\\Local\\Temp\\pip-install-1pyiae_x\\glove-python_5e052991609f4c3eb7eeb9e90b609245\n",
      "  Complete output (6 lines):\n",
      "  usage: setup.py [global_opts] cmd1 [cmd1_opts] [cmd2 [cmd2_opts] ...]\n",
      "     or: setup.py --help [cmd1 cmd2 ...]\n",
      "     or: setup.py --help-commands\n",
      "     or: setup.py cmd --help\n",
      "  \n",
      "  error: option --all not recognized\n",
      "  ----------------------------------------\n",
      "  ERROR: Failed cleaning build dir for glove-python\n",
      "    ERROR: Command errored out with exit status 1:\n",
      "     command: 'C:\\Users\\96650\\anaconda3\\python.exe' -u -c 'import sys, setuptools, tokenize; sys.argv[0] = '\"'\"'C:\\\\Users\\\\96650\\\\AppData\\\\Local\\\\Temp\\\\pip-install-1pyiae_x\\\\glove-python_5e052991609f4c3eb7eeb9e90b609245\\\\setup.py'\"'\"'; __file__='\"'\"'C:\\\\Users\\\\96650\\\\AppData\\\\Local\\\\Temp\\\\pip-install-1pyiae_x\\\\glove-python_5e052991609f4c3eb7eeb9e90b609245\\\\setup.py'\"'\"';f=getattr(tokenize, '\"'\"'open'\"'\"', open)(__file__);code=f.read().replace('\"'\"'\\r\\n'\"'\"', '\"'\"'\\n'\"'\"');f.close();exec(compile(code, __file__, '\"'\"'exec'\"'\"'))' install --record 'C:\\Users\\96650\\AppData\\Local\\Temp\\pip-record-js5gtjhr\\install-record.txt' --single-version-externally-managed --compile --install-headers 'C:\\Users\\96650\\anaconda3\\Include\\glove-python'\n",
      "         cwd: C:\\Users\\96650\\AppData\\Local\\Temp\\pip-install-1pyiae_x\\glove-python_5e052991609f4c3eb7eeb9e90b609245\\\n",
      "    Complete output (6 lines):\n",
      "    running install\n",
      "    running build\n",
      "    running build_py\n",
      "    running build_ext\n",
      "    building 'glove.glove_cython' extension\n",
      "    error: Microsoft Visual C++ 14.0 or greater is required. Get it with \"Microsoft C++ Build Tools\": https://visualstudio.microsoft.com/visual-cpp-build-tools/\n",
      "    ----------------------------------------\n",
      "ERROR: Command errored out with exit status 1: 'C:\\Users\\96650\\anaconda3\\python.exe' -u -c 'import sys, setuptools, tokenize; sys.argv[0] = '\"'\"'C:\\\\Users\\\\96650\\\\AppData\\\\Local\\\\Temp\\\\pip-install-1pyiae_x\\\\glove-python_5e052991609f4c3eb7eeb9e90b609245\\\\setup.py'\"'\"'; __file__='\"'\"'C:\\\\Users\\\\96650\\\\AppData\\\\Local\\\\Temp\\\\pip-install-1pyiae_x\\\\glove-python_5e052991609f4c3eb7eeb9e90b609245\\\\setup.py'\"'\"';f=getattr(tokenize, '\"'\"'open'\"'\"', open)(__file__);code=f.read().replace('\"'\"'\\r\\n'\"'\"', '\"'\"'\\n'\"'\"');f.close();exec(compile(code, __file__, '\"'\"'exec'\"'\"'))' install --record 'C:\\Users\\96650\\AppData\\Local\\Temp\\pip-record-js5gtjhr\\install-record.txt' --single-version-externally-managed --compile --install-headers 'C:\\Users\\96650\\anaconda3\\Include\\glove-python' Check the logs for full command output.\n"
     ]
    }
   ],
   "source": [
    "pip install glove_python"
   ]
  },
  {
   "cell_type": "code",
   "execution_count": null,
   "id": "fc337e10",
   "metadata": {},
   "outputs": [],
   "source": []
  },
  {
   "cell_type": "code",
   "execution_count": 3,
   "id": "0b0dbb81",
   "metadata": {},
   "outputs": [
    {
     "name": "stdout",
     "output_type": "stream",
     "text": [
      "Requirement already satisfied: plotly in c:\\users\\96650\\anaconda3\\lib\\site-packages (5.4.0)\n",
      "Requirement already satisfied: six in c:\\users\\96650\\anaconda3\\lib\\site-packages (from plotly) (1.15.0)\n",
      "Requirement already satisfied: tenacity>=6.2.0 in c:\\users\\96650\\anaconda3\\lib\\site-packages (from plotly) (8.0.1)\n",
      "Note: you may need to restart the kernel to use updated packages.\n"
     ]
    }
   ],
   "source": [
    "pip install plotly"
   ]
  },
  {
   "cell_type": "code",
   "execution_count": 4,
   "id": "524b94dd",
   "metadata": {},
   "outputs": [
    {
     "name": "stdout",
     "output_type": "stream",
     "text": [
      "Requirement already satisfied: wordcloud in c:\\users\\96650\\anaconda3\\lib\\site-packages (1.8.1)\n",
      "Requirement already satisfied: numpy>=1.6.1 in c:\\users\\96650\\anaconda3\\lib\\site-packages (from wordcloud) (1.20.1)\n",
      "Requirement already satisfied: matplotlib in c:\\users\\96650\\anaconda3\\lib\\site-packages (from wordcloud) (3.3.4)\n",
      "Requirement already satisfied: pillow in c:\\users\\96650\\anaconda3\\lib\\site-packages (from wordcloud) (8.2.0)\n",
      "Requirement already satisfied: pyparsing!=2.0.4,!=2.1.2,!=2.1.6,>=2.0.3 in c:\\users\\96650\\anaconda3\\lib\\site-packages (from matplotlib->wordcloud) (2.4.7)\n",
      "Requirement already satisfied: cycler>=0.10 in c:\\users\\96650\\anaconda3\\lib\\site-packages (from matplotlib->wordcloud) (0.10.0)\n",
      "Requirement already satisfied: kiwisolver>=1.0.1 in c:\\users\\96650\\anaconda3\\lib\\site-packages (from matplotlib->wordcloud) (1.3.1)\n",
      "Requirement already satisfied: python-dateutil>=2.1 in c:\\users\\96650\\anaconda3\\lib\\site-packages (from matplotlib->wordcloud) (2.8.1)\n",
      "Requirement already satisfied: six in c:\\users\\96650\\anaconda3\\lib\\site-packages (from cycler>=0.10->matplotlib->wordcloud) (1.15.0)\n",
      "Note: you may need to restart the kernel to use updated packages.\n"
     ]
    }
   ],
   "source": [
    "pip install wordcloud"
   ]
  },
  {
   "cell_type": "code",
   "execution_count": 5,
   "id": "7454ae4c",
   "metadata": {},
   "outputs": [
    {
     "name": "stdout",
     "output_type": "stream",
     "text": [
      "Requirement already satisfied: scikit-learn in c:\\users\\96650\\anaconda3\\lib\\site-packages (1.0.1)\n",
      "Requirement already satisfied: conda in c:\\users\\96650\\anaconda3\\lib\\site-packages (4.10.3)\n",
      "Requirement already satisfied: update in c:\\users\\96650\\anaconda3\\lib\\site-packages (0.0.1)\n",
      "Requirement already satisfied: pycosat>=0.6.3 in c:\\users\\96650\\anaconda3\\lib\\site-packages (from conda) (0.6.3)\n",
      "Requirement already satisfied: requests>=2.12.4 in c:\\users\\96650\\anaconda3\\lib\\site-packages (from conda) (2.25.1)\n",
      "Requirement already satisfied: ruamel_yaml_conda>=0.11.14 in c:\\users\\96650\\anaconda3\\lib\\site-packages (from conda) (0.15.100)\n",
      "Requirement already satisfied: menuinst in c:\\users\\96650\\anaconda3\\lib\\site-packages (from conda) (1.4.16)\n",
      "Requirement already satisfied: idna<3,>=2.5 in c:\\users\\96650\\anaconda3\\lib\\site-packages (from requests>=2.12.4->conda) (2.10)\n",
      "Requirement already satisfied: certifi>=2017.4.17 in c:\\users\\96650\\anaconda3\\lib\\site-packages (from requests>=2.12.4->conda) (2020.12.5)\n",
      "Requirement already satisfied: chardet<5,>=3.0.2 in c:\\users\\96650\\anaconda3\\lib\\site-packages (from requests>=2.12.4->conda) (4.0.0)\n",
      "Requirement already satisfied: urllib3<1.27,>=1.21.1 in c:\\users\\96650\\anaconda3\\lib\\site-packages (from requests>=2.12.4->conda) (1.26.4)\n",
      "Requirement already satisfied: joblib>=0.11 in c:\\users\\96650\\anaconda3\\lib\\site-packages (from scikit-learn) (1.0.1)\n",
      "Requirement already satisfied: numpy>=1.14.6 in c:\\users\\96650\\anaconda3\\lib\\site-packages (from scikit-learn) (1.20.1)\n",
      "Requirement already satisfied: scipy>=1.1.0 in c:\\users\\96650\\anaconda3\\lib\\site-packages (from scikit-learn) (1.6.2)\n",
      "Requirement already satisfied: threadpoolctl>=2.0.0 in c:\\users\\96650\\anaconda3\\lib\\site-packages (from scikit-learn) (2.1.0)\n",
      "Requirement already satisfied: style==1.1.0 in c:\\users\\96650\\anaconda3\\lib\\site-packages (from update) (1.1.0)\n",
      "Note: you may need to restart the kernel to use updated packages.\n"
     ]
    }
   ],
   "source": [
    "pip install --upgrade scikit-learn conda update scikit-learn"
   ]
  },
  {
   "cell_type": "code",
   "execution_count": 6,
   "id": "97d02752",
   "metadata": {},
   "outputs": [
    {
     "name": "stdout",
     "output_type": "stream",
     "text": [
      "Requirement already satisfied: scikit-learn in c:\\users\\96650\\anaconda3\\lib\\site-packages (1.0.1)\n",
      "Requirement already satisfied: numpy>=1.14.6 in c:\\users\\96650\\anaconda3\\lib\\site-packages (from scikit-learn) (1.20.1)\n",
      "Requirement already satisfied: threadpoolctl>=2.0.0 in c:\\users\\96650\\anaconda3\\lib\\site-packages (from scikit-learn) (2.1.0)\n",
      "Requirement already satisfied: joblib>=0.11 in c:\\users\\96650\\anaconda3\\lib\\site-packages (from scikit-learn) (1.0.1)\n",
      "Requirement already satisfied: scipy>=1.1.0 in c:\\users\\96650\\anaconda3\\lib\\site-packages (from scikit-learn) (1.6.2)\n",
      "Note: you may need to restart the kernel to use updated packages.\n"
     ]
    }
   ],
   "source": [
    "pip install --upgrade scikit-learn"
   ]
  },
  {
   "cell_type": "code",
   "execution_count": 7,
   "id": "5cf96f80",
   "metadata": {},
   "outputs": [
    {
     "name": "stdout",
     "output_type": "stream",
     "text": [
      "Requirement already satisfied: imbalanced-learn in c:\\users\\96650\\anaconda3\\lib\\site-packages (0.8.1)\n",
      "Requirement already satisfied: numpy>=1.13.3 in c:\\users\\96650\\anaconda3\\lib\\site-packages (from imbalanced-learn) (1.20.1)\n",
      "Requirement already satisfied: joblib>=0.11 in c:\\users\\96650\\anaconda3\\lib\\site-packages (from imbalanced-learn) (1.0.1)\n",
      "Requirement already satisfied: scipy>=0.19.1 in c:\\users\\96650\\anaconda3\\lib\\site-packages (from imbalanced-learn) (1.6.2)\n",
      "Requirement already satisfied: scikit-learn>=0.24 in c:\\users\\96650\\anaconda3\\lib\\site-packages (from imbalanced-learn) (1.0.1)\n",
      "Requirement already satisfied: threadpoolctl>=2.0.0 in c:\\users\\96650\\anaconda3\\lib\\site-packages (from scikit-learn>=0.24->imbalanced-learn) (2.1.0)\n",
      "Note: you may need to restart the kernel to use updated packages.\n"
     ]
    }
   ],
   "source": [
    "pip install -U imbalanced-learn"
   ]
  },
  {
   "cell_type": "code",
   "execution_count": 8,
   "id": "62d40354",
   "metadata": {},
   "outputs": [
    {
     "name": "stdout",
     "output_type": "stream",
     "text": [
      "Requirement already satisfied: category_encoders in c:\\users\\96650\\anaconda3\\lib\\site-packages (2.3.0)\n",
      "Requirement already satisfied: scipy>=1.0.0 in c:\\users\\96650\\anaconda3\\lib\\site-packages (from category_encoders) (1.6.2)\n",
      "Requirement already satisfied: pandas>=0.21.1 in c:\\users\\96650\\anaconda3\\lib\\site-packages (from category_encoders) (1.2.4)\n",
      "Requirement already satisfied: scikit-learn>=0.20.0 in c:\\users\\96650\\anaconda3\\lib\\site-packages (from category_encoders) (1.0.1)\n",
      "Requirement already satisfied: statsmodels>=0.9.0 in c:\\users\\96650\\anaconda3\\lib\\site-packages (from category_encoders) (0.12.2)\n",
      "Requirement already satisfied: patsy>=0.5.1 in c:\\users\\96650\\anaconda3\\lib\\site-packages (from category_encoders) (0.5.1)\n",
      "Requirement already satisfied: numpy>=1.14.0 in c:\\users\\96650\\anaconda3\\lib\\site-packages (from category_encoders) (1.20.1)\n",
      "Requirement already satisfied: python-dateutil>=2.7.3 in c:\\users\\96650\\anaconda3\\lib\\site-packages (from pandas>=0.21.1->category_encoders) (2.8.1)\n",
      "Requirement already satisfied: pytz>=2017.3 in c:\\users\\96650\\anaconda3\\lib\\site-packages (from pandas>=0.21.1->category_encoders) (2021.1)\n",
      "Requirement already satisfied: six in c:\\users\\96650\\anaconda3\\lib\\site-packages (from patsy>=0.5.1->category_encoders) (1.15.0)\n",
      "Requirement already satisfied: joblib>=0.11 in c:\\users\\96650\\anaconda3\\lib\\site-packages (from scikit-learn>=0.20.0->category_encoders) (1.0.1)\n",
      "Requirement already satisfied: threadpoolctl>=2.0.0 in c:\\users\\96650\\anaconda3\\lib\\site-packages (from scikit-learn>=0.20.0->category_encoders) (2.1.0)\n",
      "Note: you may need to restart the kernel to use updated packages.\n"
     ]
    }
   ],
   "source": [
    "pip install --upgrade category_encoders"
   ]
  },
  {
   "cell_type": "code",
   "execution_count": 9,
   "id": "b634316a",
   "metadata": {},
   "outputs": [],
   "source": [
    "import pandas as pd\n",
    "import numpy as np\n",
    "import matplotlib.pyplot as plt\n",
    "import scipy\n",
    "import random\n",
    "import seaborn as sns\n",
    "from sklearn import datasets\n",
    "from PIL import Image\n",
    "from sklearn.model_selection import train_test_split\n",
    "from sklearn.linear_model import LinearRegression, Ridge \n",
    "from sklearn.preprocessing import StandardScaler, PolynomialFeatures\n",
    "from sklearn.model_selection import cross_val_score\n",
    "from sklearn.preprocessing import PolynomialFeatures\n",
    "from sklearn.pipeline import make_pipeline\n",
    "from sklearn.neighbors import KNeighborsClassifier\n",
    "from sklearn.linear_model import LogisticRegression\n",
    "from sklearn.tree import DecisionTreeClassifier\n",
    "from sklearn.ensemble import RandomForestClassifier\n",
    "import plotly.express as px\n",
    "from collections import Counter\n",
    "from wordcloud import WordCloud"
   ]
  },
  {
   "cell_type": "markdown",
   "id": "91370b08",
   "metadata": {},
   "source": [
    "# Import necessary libraries and read data set"
   ]
  },
  {
   "cell_type": "code",
   "execution_count": 10,
   "id": "93c67d2d",
   "metadata": {},
   "outputs": [],
   "source": [
    "df =pd.read_csv('USvideos.csv')"
   ]
  },
  {
   "cell_type": "code",
   "execution_count": 11,
   "id": "16207429",
   "metadata": {
    "scrolled": true
   },
   "outputs": [
    {
     "data": {
      "text/html": [
       "<div>\n",
       "<style scoped>\n",
       "    .dataframe tbody tr th:only-of-type {\n",
       "        vertical-align: middle;\n",
       "    }\n",
       "\n",
       "    .dataframe tbody tr th {\n",
       "        vertical-align: top;\n",
       "    }\n",
       "\n",
       "    .dataframe thead th {\n",
       "        text-align: right;\n",
       "    }\n",
       "</style>\n",
       "<table border=\"1\" class=\"dataframe\">\n",
       "  <thead>\n",
       "    <tr style=\"text-align: right;\">\n",
       "      <th></th>\n",
       "      <th>video_id</th>\n",
       "      <th>trending_date</th>\n",
       "      <th>title</th>\n",
       "      <th>channel_title</th>\n",
       "      <th>category_id</th>\n",
       "      <th>publish_time</th>\n",
       "      <th>tags</th>\n",
       "      <th>views</th>\n",
       "      <th>likes</th>\n",
       "      <th>dislikes</th>\n",
       "      <th>comment_count</th>\n",
       "      <th>thumbnail_link</th>\n",
       "      <th>comments_disabled</th>\n",
       "      <th>ratings_disabled</th>\n",
       "      <th>video_error_or_removed</th>\n",
       "      <th>description</th>\n",
       "    </tr>\n",
       "  </thead>\n",
       "  <tbody>\n",
       "    <tr>\n",
       "      <th>0</th>\n",
       "      <td>2kyS6SvSYSE</td>\n",
       "      <td>17.14.11</td>\n",
       "      <td>WE WANT TO TALK ABOUT OUR MARRIAGE</td>\n",
       "      <td>CaseyNeistat</td>\n",
       "      <td>22</td>\n",
       "      <td>2017-11-13T17:13:01.000Z</td>\n",
       "      <td>SHANtell martin</td>\n",
       "      <td>748374</td>\n",
       "      <td>57527</td>\n",
       "      <td>2966</td>\n",
       "      <td>15954</td>\n",
       "      <td>https://i.ytimg.com/vi/2kyS6SvSYSE/default.jpg</td>\n",
       "      <td>False</td>\n",
       "      <td>False</td>\n",
       "      <td>False</td>\n",
       "      <td>SHANTELL'S CHANNEL - https://www.youtube.com/s...</td>\n",
       "    </tr>\n",
       "    <tr>\n",
       "      <th>1</th>\n",
       "      <td>1ZAPwfrtAFY</td>\n",
       "      <td>17.14.11</td>\n",
       "      <td>The Trump Presidency: Last Week Tonight with J...</td>\n",
       "      <td>LastWeekTonight</td>\n",
       "      <td>24</td>\n",
       "      <td>2017-11-13T07:30:00.000Z</td>\n",
       "      <td>last week tonight trump presidency|\"last week ...</td>\n",
       "      <td>2418783</td>\n",
       "      <td>97185</td>\n",
       "      <td>6146</td>\n",
       "      <td>12703</td>\n",
       "      <td>https://i.ytimg.com/vi/1ZAPwfrtAFY/default.jpg</td>\n",
       "      <td>False</td>\n",
       "      <td>False</td>\n",
       "      <td>False</td>\n",
       "      <td>One year after the presidential election, John...</td>\n",
       "    </tr>\n",
       "    <tr>\n",
       "      <th>2</th>\n",
       "      <td>5qpjK5DgCt4</td>\n",
       "      <td>17.14.11</td>\n",
       "      <td>Racist Superman | Rudy Mancuso, King Bach &amp; Le...</td>\n",
       "      <td>Rudy Mancuso</td>\n",
       "      <td>23</td>\n",
       "      <td>2017-11-12T19:05:24.000Z</td>\n",
       "      <td>racist superman|\"rudy\"|\"mancuso\"|\"king\"|\"bach\"...</td>\n",
       "      <td>3191434</td>\n",
       "      <td>146033</td>\n",
       "      <td>5339</td>\n",
       "      <td>8181</td>\n",
       "      <td>https://i.ytimg.com/vi/5qpjK5DgCt4/default.jpg</td>\n",
       "      <td>False</td>\n",
       "      <td>False</td>\n",
       "      <td>False</td>\n",
       "      <td>WATCH MY PREVIOUS VIDEO ▶ \\n\\nSUBSCRIBE ► http...</td>\n",
       "    </tr>\n",
       "    <tr>\n",
       "      <th>3</th>\n",
       "      <td>puqaWrEC7tY</td>\n",
       "      <td>17.14.11</td>\n",
       "      <td>Nickelback Lyrics: Real or Fake?</td>\n",
       "      <td>Good Mythical Morning</td>\n",
       "      <td>24</td>\n",
       "      <td>2017-11-13T11:00:04.000Z</td>\n",
       "      <td>rhett and link|\"gmm\"|\"good mythical morning\"|\"...</td>\n",
       "      <td>343168</td>\n",
       "      <td>10172</td>\n",
       "      <td>666</td>\n",
       "      <td>2146</td>\n",
       "      <td>https://i.ytimg.com/vi/puqaWrEC7tY/default.jpg</td>\n",
       "      <td>False</td>\n",
       "      <td>False</td>\n",
       "      <td>False</td>\n",
       "      <td>Today we find out if Link is a Nickelback amat...</td>\n",
       "    </tr>\n",
       "    <tr>\n",
       "      <th>4</th>\n",
       "      <td>d380meD0W0M</td>\n",
       "      <td>17.14.11</td>\n",
       "      <td>I Dare You: GOING BALD!?</td>\n",
       "      <td>nigahiga</td>\n",
       "      <td>24</td>\n",
       "      <td>2017-11-12T18:01:41.000Z</td>\n",
       "      <td>ryan|\"higa\"|\"higatv\"|\"nigahiga\"|\"i dare you\"|\"...</td>\n",
       "      <td>2095731</td>\n",
       "      <td>132235</td>\n",
       "      <td>1989</td>\n",
       "      <td>17518</td>\n",
       "      <td>https://i.ytimg.com/vi/d380meD0W0M/default.jpg</td>\n",
       "      <td>False</td>\n",
       "      <td>False</td>\n",
       "      <td>False</td>\n",
       "      <td>I know it's been a while since we did this sho...</td>\n",
       "    </tr>\n",
       "    <tr>\n",
       "      <th>...</th>\n",
       "      <td>...</td>\n",
       "      <td>...</td>\n",
       "      <td>...</td>\n",
       "      <td>...</td>\n",
       "      <td>...</td>\n",
       "      <td>...</td>\n",
       "      <td>...</td>\n",
       "      <td>...</td>\n",
       "      <td>...</td>\n",
       "      <td>...</td>\n",
       "      <td>...</td>\n",
       "      <td>...</td>\n",
       "      <td>...</td>\n",
       "      <td>...</td>\n",
       "      <td>...</td>\n",
       "      <td>...</td>\n",
       "    </tr>\n",
       "    <tr>\n",
       "      <th>40944</th>\n",
       "      <td>BZt0qjTWNhw</td>\n",
       "      <td>18.14.06</td>\n",
       "      <td>The Cat Who Caught the Laser</td>\n",
       "      <td>AaronsAnimals</td>\n",
       "      <td>15</td>\n",
       "      <td>2018-05-18T13:00:04.000Z</td>\n",
       "      <td>aarons animals|\"aarons\"|\"animals\"|\"cat\"|\"cats\"...</td>\n",
       "      <td>1685609</td>\n",
       "      <td>38160</td>\n",
       "      <td>1385</td>\n",
       "      <td>2657</td>\n",
       "      <td>https://i.ytimg.com/vi/BZt0qjTWNhw/default.jpg</td>\n",
       "      <td>False</td>\n",
       "      <td>False</td>\n",
       "      <td>False</td>\n",
       "      <td>The Cat Who Caught the Laser - Aaron's Animals</td>\n",
       "    </tr>\n",
       "    <tr>\n",
       "      <th>40945</th>\n",
       "      <td>1h7KV2sjUWY</td>\n",
       "      <td>18.14.06</td>\n",
       "      <td>True Facts : Ant Mutualism</td>\n",
       "      <td>zefrank1</td>\n",
       "      <td>22</td>\n",
       "      <td>2018-05-18T01:00:06.000Z</td>\n",
       "      <td>[none]</td>\n",
       "      <td>1064798</td>\n",
       "      <td>60008</td>\n",
       "      <td>382</td>\n",
       "      <td>3936</td>\n",
       "      <td>https://i.ytimg.com/vi/1h7KV2sjUWY/default.jpg</td>\n",
       "      <td>False</td>\n",
       "      <td>False</td>\n",
       "      <td>False</td>\n",
       "      <td>NaN</td>\n",
       "    </tr>\n",
       "    <tr>\n",
       "      <th>40946</th>\n",
       "      <td>D6Oy4LfoqsU</td>\n",
       "      <td>18.14.06</td>\n",
       "      <td>I GAVE SAFIYA NYGAARD A PERFECT HAIR MAKEOVER ...</td>\n",
       "      <td>Brad Mondo</td>\n",
       "      <td>24</td>\n",
       "      <td>2018-05-18T17:34:22.000Z</td>\n",
       "      <td>I gave safiya nygaard a perfect hair makeover ...</td>\n",
       "      <td>1066451</td>\n",
       "      <td>48068</td>\n",
       "      <td>1032</td>\n",
       "      <td>3992</td>\n",
       "      <td>https://i.ytimg.com/vi/D6Oy4LfoqsU/default.jpg</td>\n",
       "      <td>False</td>\n",
       "      <td>False</td>\n",
       "      <td>False</td>\n",
       "      <td>I had so much fun transforming Safiyas hair in...</td>\n",
       "    </tr>\n",
       "    <tr>\n",
       "      <th>40947</th>\n",
       "      <td>oV0zkMe1K8s</td>\n",
       "      <td>18.14.06</td>\n",
       "      <td>How Black Panther Should Have Ended</td>\n",
       "      <td>How It Should Have Ended</td>\n",
       "      <td>1</td>\n",
       "      <td>2018-05-17T17:00:04.000Z</td>\n",
       "      <td>Black Panther|\"HISHE\"|\"Marvel\"|\"Infinity War\"|...</td>\n",
       "      <td>5660813</td>\n",
       "      <td>192957</td>\n",
       "      <td>2846</td>\n",
       "      <td>13088</td>\n",
       "      <td>https://i.ytimg.com/vi/oV0zkMe1K8s/default.jpg</td>\n",
       "      <td>False</td>\n",
       "      <td>False</td>\n",
       "      <td>False</td>\n",
       "      <td>How Black Panther Should Have EndedWatch More ...</td>\n",
       "    </tr>\n",
       "    <tr>\n",
       "      <th>40948</th>\n",
       "      <td>ooyjaVdt-jA</td>\n",
       "      <td>18.14.06</td>\n",
       "      <td>Official Call of Duty®: Black Ops 4 — Multipla...</td>\n",
       "      <td>Call of Duty</td>\n",
       "      <td>20</td>\n",
       "      <td>2018-05-17T17:09:38.000Z</td>\n",
       "      <td>call of duty|\"cod\"|\"activision\"|\"Black Ops 4\"</td>\n",
       "      <td>10306119</td>\n",
       "      <td>357079</td>\n",
       "      <td>212976</td>\n",
       "      <td>144795</td>\n",
       "      <td>https://i.ytimg.com/vi/ooyjaVdt-jA/default.jpg</td>\n",
       "      <td>False</td>\n",
       "      <td>False</td>\n",
       "      <td>False</td>\n",
       "      <td>Call of Duty: Black Ops 4 Multiplayer raises t...</td>\n",
       "    </tr>\n",
       "  </tbody>\n",
       "</table>\n",
       "<p>40949 rows × 16 columns</p>\n",
       "</div>"
      ],
      "text/plain": [
       "          video_id trending_date  \\\n",
       "0      2kyS6SvSYSE      17.14.11   \n",
       "1      1ZAPwfrtAFY      17.14.11   \n",
       "2      5qpjK5DgCt4      17.14.11   \n",
       "3      puqaWrEC7tY      17.14.11   \n",
       "4      d380meD0W0M      17.14.11   \n",
       "...            ...           ...   \n",
       "40944  BZt0qjTWNhw      18.14.06   \n",
       "40945  1h7KV2sjUWY      18.14.06   \n",
       "40946  D6Oy4LfoqsU      18.14.06   \n",
       "40947  oV0zkMe1K8s      18.14.06   \n",
       "40948  ooyjaVdt-jA      18.14.06   \n",
       "\n",
       "                                                   title  \\\n",
       "0                     WE WANT TO TALK ABOUT OUR MARRIAGE   \n",
       "1      The Trump Presidency: Last Week Tonight with J...   \n",
       "2      Racist Superman | Rudy Mancuso, King Bach & Le...   \n",
       "3                       Nickelback Lyrics: Real or Fake?   \n",
       "4                               I Dare You: GOING BALD!?   \n",
       "...                                                  ...   \n",
       "40944                       The Cat Who Caught the Laser   \n",
       "40945                         True Facts : Ant Mutualism   \n",
       "40946  I GAVE SAFIYA NYGAARD A PERFECT HAIR MAKEOVER ...   \n",
       "40947                How Black Panther Should Have Ended   \n",
       "40948  Official Call of Duty®: Black Ops 4 — Multipla...   \n",
       "\n",
       "                  channel_title  category_id              publish_time  \\\n",
       "0                  CaseyNeistat           22  2017-11-13T17:13:01.000Z   \n",
       "1               LastWeekTonight           24  2017-11-13T07:30:00.000Z   \n",
       "2                  Rudy Mancuso           23  2017-11-12T19:05:24.000Z   \n",
       "3         Good Mythical Morning           24  2017-11-13T11:00:04.000Z   \n",
       "4                      nigahiga           24  2017-11-12T18:01:41.000Z   \n",
       "...                         ...          ...                       ...   \n",
       "40944             AaronsAnimals           15  2018-05-18T13:00:04.000Z   \n",
       "40945                  zefrank1           22  2018-05-18T01:00:06.000Z   \n",
       "40946                Brad Mondo           24  2018-05-18T17:34:22.000Z   \n",
       "40947  How It Should Have Ended            1  2018-05-17T17:00:04.000Z   \n",
       "40948              Call of Duty           20  2018-05-17T17:09:38.000Z   \n",
       "\n",
       "                                                    tags     views   likes  \\\n",
       "0                                        SHANtell martin    748374   57527   \n",
       "1      last week tonight trump presidency|\"last week ...   2418783   97185   \n",
       "2      racist superman|\"rudy\"|\"mancuso\"|\"king\"|\"bach\"...   3191434  146033   \n",
       "3      rhett and link|\"gmm\"|\"good mythical morning\"|\"...    343168   10172   \n",
       "4      ryan|\"higa\"|\"higatv\"|\"nigahiga\"|\"i dare you\"|\"...   2095731  132235   \n",
       "...                                                  ...       ...     ...   \n",
       "40944  aarons animals|\"aarons\"|\"animals\"|\"cat\"|\"cats\"...   1685609   38160   \n",
       "40945                                             [none]   1064798   60008   \n",
       "40946  I gave safiya nygaard a perfect hair makeover ...   1066451   48068   \n",
       "40947  Black Panther|\"HISHE\"|\"Marvel\"|\"Infinity War\"|...   5660813  192957   \n",
       "40948      call of duty|\"cod\"|\"activision\"|\"Black Ops 4\"  10306119  357079   \n",
       "\n",
       "       dislikes  comment_count  \\\n",
       "0          2966          15954   \n",
       "1          6146          12703   \n",
       "2          5339           8181   \n",
       "3           666           2146   \n",
       "4          1989          17518   \n",
       "...         ...            ...   \n",
       "40944      1385           2657   \n",
       "40945       382           3936   \n",
       "40946      1032           3992   \n",
       "40947      2846          13088   \n",
       "40948    212976         144795   \n",
       "\n",
       "                                       thumbnail_link  comments_disabled  \\\n",
       "0      https://i.ytimg.com/vi/2kyS6SvSYSE/default.jpg              False   \n",
       "1      https://i.ytimg.com/vi/1ZAPwfrtAFY/default.jpg              False   \n",
       "2      https://i.ytimg.com/vi/5qpjK5DgCt4/default.jpg              False   \n",
       "3      https://i.ytimg.com/vi/puqaWrEC7tY/default.jpg              False   \n",
       "4      https://i.ytimg.com/vi/d380meD0W0M/default.jpg              False   \n",
       "...                                               ...                ...   \n",
       "40944  https://i.ytimg.com/vi/BZt0qjTWNhw/default.jpg              False   \n",
       "40945  https://i.ytimg.com/vi/1h7KV2sjUWY/default.jpg              False   \n",
       "40946  https://i.ytimg.com/vi/D6Oy4LfoqsU/default.jpg              False   \n",
       "40947  https://i.ytimg.com/vi/oV0zkMe1K8s/default.jpg              False   \n",
       "40948  https://i.ytimg.com/vi/ooyjaVdt-jA/default.jpg              False   \n",
       "\n",
       "       ratings_disabled  video_error_or_removed  \\\n",
       "0                 False                   False   \n",
       "1                 False                   False   \n",
       "2                 False                   False   \n",
       "3                 False                   False   \n",
       "4                 False                   False   \n",
       "...                 ...                     ...   \n",
       "40944             False                   False   \n",
       "40945             False                   False   \n",
       "40946             False                   False   \n",
       "40947             False                   False   \n",
       "40948             False                   False   \n",
       "\n",
       "                                             description  \n",
       "0      SHANTELL'S CHANNEL - https://www.youtube.com/s...  \n",
       "1      One year after the presidential election, John...  \n",
       "2      WATCH MY PREVIOUS VIDEO ▶ \\n\\nSUBSCRIBE ► http...  \n",
       "3      Today we find out if Link is a Nickelback amat...  \n",
       "4      I know it's been a while since we did this sho...  \n",
       "...                                                  ...  \n",
       "40944     The Cat Who Caught the Laser - Aaron's Animals  \n",
       "40945                                                NaN  \n",
       "40946  I had so much fun transforming Safiyas hair in...  \n",
       "40947  How Black Panther Should Have EndedWatch More ...  \n",
       "40948  Call of Duty: Black Ops 4 Multiplayer raises t...  \n",
       "\n",
       "[40949 rows x 16 columns]"
      ]
     },
     "execution_count": 11,
     "metadata": {},
     "output_type": "execute_result"
    }
   ],
   "source": [
    "df"
   ]
  },
  {
   "cell_type": "code",
   "execution_count": 12,
   "id": "27019778",
   "metadata": {},
   "outputs": [
    {
     "data": {
      "text/plain": [
       "Index(['video_id', 'trending_date', 'title', 'channel_title', 'category_id',\n",
       "       'publish_time', 'tags', 'views', 'likes', 'dislikes', 'comment_count',\n",
       "       'thumbnail_link', 'comments_disabled', 'ratings_disabled',\n",
       "       'video_error_or_removed', 'description'],\n",
       "      dtype='object')"
      ]
     },
     "execution_count": 12,
     "metadata": {},
     "output_type": "execute_result"
    }
   ],
   "source": [
    "df.columns"
   ]
  },
  {
   "cell_type": "code",
   "execution_count": 13,
   "id": "e175fd1f",
   "metadata": {},
   "outputs": [],
   "source": [
    "df['country'] = 'USA'"
   ]
  },
  {
   "cell_type": "code",
   "execution_count": 14,
   "id": "4e205580",
   "metadata": {},
   "outputs": [
    {
     "data": {
      "text/html": [
       "<div>\n",
       "<style scoped>\n",
       "    .dataframe tbody tr th:only-of-type {\n",
       "        vertical-align: middle;\n",
       "    }\n",
       "\n",
       "    .dataframe tbody tr th {\n",
       "        vertical-align: top;\n",
       "    }\n",
       "\n",
       "    .dataframe thead th {\n",
       "        text-align: right;\n",
       "    }\n",
       "</style>\n",
       "<table border=\"1\" class=\"dataframe\">\n",
       "  <thead>\n",
       "    <tr style=\"text-align: right;\">\n",
       "      <th></th>\n",
       "      <th>video_id</th>\n",
       "      <th>trending_date</th>\n",
       "      <th>title</th>\n",
       "      <th>channel_title</th>\n",
       "      <th>category_id</th>\n",
       "      <th>publish_time</th>\n",
       "      <th>tags</th>\n",
       "      <th>views</th>\n",
       "      <th>likes</th>\n",
       "      <th>dislikes</th>\n",
       "      <th>comment_count</th>\n",
       "      <th>thumbnail_link</th>\n",
       "      <th>comments_disabled</th>\n",
       "      <th>ratings_disabled</th>\n",
       "      <th>video_error_or_removed</th>\n",
       "      <th>description</th>\n",
       "      <th>country</th>\n",
       "    </tr>\n",
       "  </thead>\n",
       "  <tbody>\n",
       "    <tr>\n",
       "      <th>0</th>\n",
       "      <td>2kyS6SvSYSE</td>\n",
       "      <td>17.14.11</td>\n",
       "      <td>WE WANT TO TALK ABOUT OUR MARRIAGE</td>\n",
       "      <td>CaseyNeistat</td>\n",
       "      <td>22</td>\n",
       "      <td>2017-11-13T17:13:01.000Z</td>\n",
       "      <td>SHANtell martin</td>\n",
       "      <td>748374</td>\n",
       "      <td>57527</td>\n",
       "      <td>2966</td>\n",
       "      <td>15954</td>\n",
       "      <td>https://i.ytimg.com/vi/2kyS6SvSYSE/default.jpg</td>\n",
       "      <td>False</td>\n",
       "      <td>False</td>\n",
       "      <td>False</td>\n",
       "      <td>SHANTELL'S CHANNEL - https://www.youtube.com/s...</td>\n",
       "      <td>USA</td>\n",
       "    </tr>\n",
       "    <tr>\n",
       "      <th>1</th>\n",
       "      <td>1ZAPwfrtAFY</td>\n",
       "      <td>17.14.11</td>\n",
       "      <td>The Trump Presidency: Last Week Tonight with J...</td>\n",
       "      <td>LastWeekTonight</td>\n",
       "      <td>24</td>\n",
       "      <td>2017-11-13T07:30:00.000Z</td>\n",
       "      <td>last week tonight trump presidency|\"last week ...</td>\n",
       "      <td>2418783</td>\n",
       "      <td>97185</td>\n",
       "      <td>6146</td>\n",
       "      <td>12703</td>\n",
       "      <td>https://i.ytimg.com/vi/1ZAPwfrtAFY/default.jpg</td>\n",
       "      <td>False</td>\n",
       "      <td>False</td>\n",
       "      <td>False</td>\n",
       "      <td>One year after the presidential election, John...</td>\n",
       "      <td>USA</td>\n",
       "    </tr>\n",
       "  </tbody>\n",
       "</table>\n",
       "</div>"
      ],
      "text/plain": [
       "      video_id trending_date  \\\n",
       "0  2kyS6SvSYSE      17.14.11   \n",
       "1  1ZAPwfrtAFY      17.14.11   \n",
       "\n",
       "                                               title    channel_title  \\\n",
       "0                 WE WANT TO TALK ABOUT OUR MARRIAGE     CaseyNeistat   \n",
       "1  The Trump Presidency: Last Week Tonight with J...  LastWeekTonight   \n",
       "\n",
       "   category_id              publish_time  \\\n",
       "0           22  2017-11-13T17:13:01.000Z   \n",
       "1           24  2017-11-13T07:30:00.000Z   \n",
       "\n",
       "                                                tags    views  likes  \\\n",
       "0                                    SHANtell martin   748374  57527   \n",
       "1  last week tonight trump presidency|\"last week ...  2418783  97185   \n",
       "\n",
       "   dislikes  comment_count                                  thumbnail_link  \\\n",
       "0      2966          15954  https://i.ytimg.com/vi/2kyS6SvSYSE/default.jpg   \n",
       "1      6146          12703  https://i.ytimg.com/vi/1ZAPwfrtAFY/default.jpg   \n",
       "\n",
       "   comments_disabled  ratings_disabled  video_error_or_removed  \\\n",
       "0              False             False                   False   \n",
       "1              False             False                   False   \n",
       "\n",
       "                                         description country  \n",
       "0  SHANTELL'S CHANNEL - https://www.youtube.com/s...     USA  \n",
       "1  One year after the presidential election, John...     USA  "
      ]
     },
     "execution_count": 14,
     "metadata": {},
     "output_type": "execute_result"
    }
   ],
   "source": [
    "df.head(2)"
   ]
  },
  {
   "cell_type": "code",
   "execution_count": 15,
   "id": "273c73ab",
   "metadata": {},
   "outputs": [],
   "source": [
    "df1 =pd.read_csv('CAvideos.csv')"
   ]
  },
  {
   "cell_type": "code",
   "execution_count": 16,
   "id": "da3aabeb",
   "metadata": {
    "scrolled": true
   },
   "outputs": [
    {
     "data": {
      "text/html": [
       "<div>\n",
       "<style scoped>\n",
       "    .dataframe tbody tr th:only-of-type {\n",
       "        vertical-align: middle;\n",
       "    }\n",
       "\n",
       "    .dataframe tbody tr th {\n",
       "        vertical-align: top;\n",
       "    }\n",
       "\n",
       "    .dataframe thead th {\n",
       "        text-align: right;\n",
       "    }\n",
       "</style>\n",
       "<table border=\"1\" class=\"dataframe\">\n",
       "  <thead>\n",
       "    <tr style=\"text-align: right;\">\n",
       "      <th></th>\n",
       "      <th>video_id</th>\n",
       "      <th>trending_date</th>\n",
       "      <th>title</th>\n",
       "      <th>channel_title</th>\n",
       "      <th>category_id</th>\n",
       "      <th>publish_time</th>\n",
       "      <th>tags</th>\n",
       "      <th>views</th>\n",
       "      <th>likes</th>\n",
       "      <th>dislikes</th>\n",
       "      <th>comment_count</th>\n",
       "      <th>thumbnail_link</th>\n",
       "      <th>comments_disabled</th>\n",
       "      <th>ratings_disabled</th>\n",
       "      <th>video_error_or_removed</th>\n",
       "      <th>description</th>\n",
       "    </tr>\n",
       "  </thead>\n",
       "  <tbody>\n",
       "    <tr>\n",
       "      <th>0</th>\n",
       "      <td>n1WpP7iowLc</td>\n",
       "      <td>17.14.11</td>\n",
       "      <td>Eminem - Walk On Water (Audio) ft. Beyoncé</td>\n",
       "      <td>EminemVEVO</td>\n",
       "      <td>10</td>\n",
       "      <td>2017-11-10T17:00:03.000Z</td>\n",
       "      <td>Eminem|\"Walk\"|\"On\"|\"Water\"|\"Aftermath/Shady/In...</td>\n",
       "      <td>17158579</td>\n",
       "      <td>787425</td>\n",
       "      <td>43420</td>\n",
       "      <td>125882</td>\n",
       "      <td>https://i.ytimg.com/vi/n1WpP7iowLc/default.jpg</td>\n",
       "      <td>False</td>\n",
       "      <td>False</td>\n",
       "      <td>False</td>\n",
       "      <td>Eminem's new track Walk on Water ft. Beyoncé i...</td>\n",
       "    </tr>\n",
       "    <tr>\n",
       "      <th>1</th>\n",
       "      <td>0dBIkQ4Mz1M</td>\n",
       "      <td>17.14.11</td>\n",
       "      <td>PLUSH - Bad Unboxing Fan Mail</td>\n",
       "      <td>iDubbbzTV</td>\n",
       "      <td>23</td>\n",
       "      <td>2017-11-13T17:00:00.000Z</td>\n",
       "      <td>plush|\"bad unboxing\"|\"unboxing\"|\"fan mail\"|\"id...</td>\n",
       "      <td>1014651</td>\n",
       "      <td>127794</td>\n",
       "      <td>1688</td>\n",
       "      <td>13030</td>\n",
       "      <td>https://i.ytimg.com/vi/0dBIkQ4Mz1M/default.jpg</td>\n",
       "      <td>False</td>\n",
       "      <td>False</td>\n",
       "      <td>False</td>\n",
       "      <td>STill got a lot of packages. Probably will las...</td>\n",
       "    </tr>\n",
       "    <tr>\n",
       "      <th>2</th>\n",
       "      <td>5qpjK5DgCt4</td>\n",
       "      <td>17.14.11</td>\n",
       "      <td>Racist Superman | Rudy Mancuso, King Bach &amp; Le...</td>\n",
       "      <td>Rudy Mancuso</td>\n",
       "      <td>23</td>\n",
       "      <td>2017-11-12T19:05:24.000Z</td>\n",
       "      <td>racist superman|\"rudy\"|\"mancuso\"|\"king\"|\"bach\"...</td>\n",
       "      <td>3191434</td>\n",
       "      <td>146035</td>\n",
       "      <td>5339</td>\n",
       "      <td>8181</td>\n",
       "      <td>https://i.ytimg.com/vi/5qpjK5DgCt4/default.jpg</td>\n",
       "      <td>False</td>\n",
       "      <td>False</td>\n",
       "      <td>False</td>\n",
       "      <td>WATCH MY PREVIOUS VIDEO ▶ \\n\\nSUBSCRIBE ► http...</td>\n",
       "    </tr>\n",
       "    <tr>\n",
       "      <th>3</th>\n",
       "      <td>d380meD0W0M</td>\n",
       "      <td>17.14.11</td>\n",
       "      <td>I Dare You: GOING BALD!?</td>\n",
       "      <td>nigahiga</td>\n",
       "      <td>24</td>\n",
       "      <td>2017-11-12T18:01:41.000Z</td>\n",
       "      <td>ryan|\"higa\"|\"higatv\"|\"nigahiga\"|\"i dare you\"|\"...</td>\n",
       "      <td>2095828</td>\n",
       "      <td>132239</td>\n",
       "      <td>1989</td>\n",
       "      <td>17518</td>\n",
       "      <td>https://i.ytimg.com/vi/d380meD0W0M/default.jpg</td>\n",
       "      <td>False</td>\n",
       "      <td>False</td>\n",
       "      <td>False</td>\n",
       "      <td>I know it's been a while since we did this sho...</td>\n",
       "    </tr>\n",
       "    <tr>\n",
       "      <th>4</th>\n",
       "      <td>2Vv-BfVoq4g</td>\n",
       "      <td>17.14.11</td>\n",
       "      <td>Ed Sheeran - Perfect (Official Music Video)</td>\n",
       "      <td>Ed Sheeran</td>\n",
       "      <td>10</td>\n",
       "      <td>2017-11-09T11:04:14.000Z</td>\n",
       "      <td>edsheeran|\"ed sheeran\"|\"acoustic\"|\"live\"|\"cove...</td>\n",
       "      <td>33523622</td>\n",
       "      <td>1634130</td>\n",
       "      <td>21082</td>\n",
       "      <td>85067</td>\n",
       "      <td>https://i.ytimg.com/vi/2Vv-BfVoq4g/default.jpg</td>\n",
       "      <td>False</td>\n",
       "      <td>False</td>\n",
       "      <td>False</td>\n",
       "      <td>🎧: https://ad.gt/yt-perfect\\n💰: https://atlant...</td>\n",
       "    </tr>\n",
       "    <tr>\n",
       "      <th>...</th>\n",
       "      <td>...</td>\n",
       "      <td>...</td>\n",
       "      <td>...</td>\n",
       "      <td>...</td>\n",
       "      <td>...</td>\n",
       "      <td>...</td>\n",
       "      <td>...</td>\n",
       "      <td>...</td>\n",
       "      <td>...</td>\n",
       "      <td>...</td>\n",
       "      <td>...</td>\n",
       "      <td>...</td>\n",
       "      <td>...</td>\n",
       "      <td>...</td>\n",
       "      <td>...</td>\n",
       "      <td>...</td>\n",
       "    </tr>\n",
       "    <tr>\n",
       "      <th>40876</th>\n",
       "      <td>sGolxsMSGfQ</td>\n",
       "      <td>18.14.06</td>\n",
       "      <td>HOW2: How to Solve a Mystery</td>\n",
       "      <td>Annoying Orange</td>\n",
       "      <td>24</td>\n",
       "      <td>2018-06-13T18:00:07.000Z</td>\n",
       "      <td>annoying orange|\"funny\"|\"fruit\"|\"talking\"|\"ani...</td>\n",
       "      <td>80685</td>\n",
       "      <td>1701</td>\n",
       "      <td>99</td>\n",
       "      <td>1312</td>\n",
       "      <td>https://i.ytimg.com/vi/sGolxsMSGfQ/default.jpg</td>\n",
       "      <td>False</td>\n",
       "      <td>False</td>\n",
       "      <td>False</td>\n",
       "      <td>🚨 NEW MERCH! http://amzn.to/annoyingorange 🚨➤ ...</td>\n",
       "    </tr>\n",
       "    <tr>\n",
       "      <th>40877</th>\n",
       "      <td>8HNuRNi8t70</td>\n",
       "      <td>18.14.06</td>\n",
       "      <td>Eli Lik Lik Episode 13 Partie 01</td>\n",
       "      <td>Elhiwar Ettounsi</td>\n",
       "      <td>24</td>\n",
       "      <td>2018-06-13T19:01:18.000Z</td>\n",
       "      <td>hkayet tounsia|\"elhiwar ettounsi\"|\"denya okhra...</td>\n",
       "      <td>103339</td>\n",
       "      <td>460</td>\n",
       "      <td>66</td>\n",
       "      <td>51</td>\n",
       "      <td>https://i.ytimg.com/vi/8HNuRNi8t70/default.jpg</td>\n",
       "      <td>False</td>\n",
       "      <td>False</td>\n",
       "      <td>False</td>\n",
       "      <td>► Retrouvez vos programmes préférés : https://...</td>\n",
       "    </tr>\n",
       "    <tr>\n",
       "      <th>40878</th>\n",
       "      <td>GWlKEM3m2EE</td>\n",
       "      <td>18.14.06</td>\n",
       "      <td>KINGDOM HEARTS III – SQUARE ENIX E3 SHOWCASE 2...</td>\n",
       "      <td>Kingdom Hearts</td>\n",
       "      <td>20</td>\n",
       "      <td>2018-06-11T17:30:53.000Z</td>\n",
       "      <td>Kingdom Hearts|\"KH3\"|\"Kingdom Hearts 3\"|\"Froze...</td>\n",
       "      <td>773347</td>\n",
       "      <td>25900</td>\n",
       "      <td>224</td>\n",
       "      <td>3881</td>\n",
       "      <td>https://i.ytimg.com/vi/GWlKEM3m2EE/default.jpg</td>\n",
       "      <td>False</td>\n",
       "      <td>False</td>\n",
       "      <td>False</td>\n",
       "      <td>Find out more about Kingdom Hearts 3: https://...</td>\n",
       "    </tr>\n",
       "    <tr>\n",
       "      <th>40879</th>\n",
       "      <td>lbMKLzQ4cNQ</td>\n",
       "      <td>18.14.06</td>\n",
       "      <td>Trump Advisor Grovels To Trudeau</td>\n",
       "      <td>The Young Turks</td>\n",
       "      <td>25</td>\n",
       "      <td>2018-06-13T04:00:05.000Z</td>\n",
       "      <td>180612__TB02SorryExcuse|\"News\"|\"Politics\"|\"The...</td>\n",
       "      <td>115225</td>\n",
       "      <td>2115</td>\n",
       "      <td>182</td>\n",
       "      <td>1672</td>\n",
       "      <td>https://i.ytimg.com/vi/lbMKLzQ4cNQ/default.jpg</td>\n",
       "      <td>False</td>\n",
       "      <td>False</td>\n",
       "      <td>False</td>\n",
       "      <td>Peter Navarro isn’t talking so tough now. Ana ...</td>\n",
       "    </tr>\n",
       "    <tr>\n",
       "      <th>40880</th>\n",
       "      <td>POTgw38-m58</td>\n",
       "      <td>18.14.06</td>\n",
       "      <td>【完整版】遇到恐怖情人該怎麼辦？2018.06.13小明星大跟班</td>\n",
       "      <td>我愛小明星大跟班</td>\n",
       "      <td>24</td>\n",
       "      <td>2018-06-13T16:00:03.000Z</td>\n",
       "      <td>吳宗憲|\"吳姍儒\"|\"小明星大跟班\"|\"Sandy\"|\"Jacky wu\"|\"憲哥\"|\"中天...</td>\n",
       "      <td>107392</td>\n",
       "      <td>300</td>\n",
       "      <td>62</td>\n",
       "      <td>251</td>\n",
       "      <td>https://i.ytimg.com/vi/POTgw38-m58/default.jpg</td>\n",
       "      <td>False</td>\n",
       "      <td>False</td>\n",
       "      <td>False</td>\n",
       "      <td>藝人：李妍瑾、玉兔、班傑、LaLa、小優、少少專家：陳筱屏(律師)、Wendy(心理師)、羅...</td>\n",
       "    </tr>\n",
       "  </tbody>\n",
       "</table>\n",
       "<p>40881 rows × 16 columns</p>\n",
       "</div>"
      ],
      "text/plain": [
       "          video_id trending_date  \\\n",
       "0      n1WpP7iowLc      17.14.11   \n",
       "1      0dBIkQ4Mz1M      17.14.11   \n",
       "2      5qpjK5DgCt4      17.14.11   \n",
       "3      d380meD0W0M      17.14.11   \n",
       "4      2Vv-BfVoq4g      17.14.11   \n",
       "...            ...           ...   \n",
       "40876  sGolxsMSGfQ      18.14.06   \n",
       "40877  8HNuRNi8t70      18.14.06   \n",
       "40878  GWlKEM3m2EE      18.14.06   \n",
       "40879  lbMKLzQ4cNQ      18.14.06   \n",
       "40880  POTgw38-m58      18.14.06   \n",
       "\n",
       "                                                   title     channel_title  \\\n",
       "0             Eminem - Walk On Water (Audio) ft. Beyoncé        EminemVEVO   \n",
       "1                          PLUSH - Bad Unboxing Fan Mail         iDubbbzTV   \n",
       "2      Racist Superman | Rudy Mancuso, King Bach & Le...      Rudy Mancuso   \n",
       "3                               I Dare You: GOING BALD!?          nigahiga   \n",
       "4            Ed Sheeran - Perfect (Official Music Video)        Ed Sheeran   \n",
       "...                                                  ...               ...   \n",
       "40876                       HOW2: How to Solve a Mystery   Annoying Orange   \n",
       "40877                   Eli Lik Lik Episode 13 Partie 01  Elhiwar Ettounsi   \n",
       "40878  KINGDOM HEARTS III – SQUARE ENIX E3 SHOWCASE 2...    Kingdom Hearts   \n",
       "40879                   Trump Advisor Grovels To Trudeau   The Young Turks   \n",
       "40880                   【完整版】遇到恐怖情人該怎麼辦？2018.06.13小明星大跟班          我愛小明星大跟班   \n",
       "\n",
       "       category_id              publish_time  \\\n",
       "0               10  2017-11-10T17:00:03.000Z   \n",
       "1               23  2017-11-13T17:00:00.000Z   \n",
       "2               23  2017-11-12T19:05:24.000Z   \n",
       "3               24  2017-11-12T18:01:41.000Z   \n",
       "4               10  2017-11-09T11:04:14.000Z   \n",
       "...            ...                       ...   \n",
       "40876           24  2018-06-13T18:00:07.000Z   \n",
       "40877           24  2018-06-13T19:01:18.000Z   \n",
       "40878           20  2018-06-11T17:30:53.000Z   \n",
       "40879           25  2018-06-13T04:00:05.000Z   \n",
       "40880           24  2018-06-13T16:00:03.000Z   \n",
       "\n",
       "                                                    tags     views    likes  \\\n",
       "0      Eminem|\"Walk\"|\"On\"|\"Water\"|\"Aftermath/Shady/In...  17158579   787425   \n",
       "1      plush|\"bad unboxing\"|\"unboxing\"|\"fan mail\"|\"id...   1014651   127794   \n",
       "2      racist superman|\"rudy\"|\"mancuso\"|\"king\"|\"bach\"...   3191434   146035   \n",
       "3      ryan|\"higa\"|\"higatv\"|\"nigahiga\"|\"i dare you\"|\"...   2095828   132239   \n",
       "4      edsheeran|\"ed sheeran\"|\"acoustic\"|\"live\"|\"cove...  33523622  1634130   \n",
       "...                                                  ...       ...      ...   \n",
       "40876  annoying orange|\"funny\"|\"fruit\"|\"talking\"|\"ani...     80685     1701   \n",
       "40877  hkayet tounsia|\"elhiwar ettounsi\"|\"denya okhra...    103339      460   \n",
       "40878  Kingdom Hearts|\"KH3\"|\"Kingdom Hearts 3\"|\"Froze...    773347    25900   \n",
       "40879  180612__TB02SorryExcuse|\"News\"|\"Politics\"|\"The...    115225     2115   \n",
       "40880  吳宗憲|\"吳姍儒\"|\"小明星大跟班\"|\"Sandy\"|\"Jacky wu\"|\"憲哥\"|\"中天...    107392      300   \n",
       "\n",
       "       dislikes  comment_count  \\\n",
       "0         43420         125882   \n",
       "1          1688          13030   \n",
       "2          5339           8181   \n",
       "3          1989          17518   \n",
       "4         21082          85067   \n",
       "...         ...            ...   \n",
       "40876        99           1312   \n",
       "40877        66             51   \n",
       "40878       224           3881   \n",
       "40879       182           1672   \n",
       "40880        62            251   \n",
       "\n",
       "                                       thumbnail_link  comments_disabled  \\\n",
       "0      https://i.ytimg.com/vi/n1WpP7iowLc/default.jpg              False   \n",
       "1      https://i.ytimg.com/vi/0dBIkQ4Mz1M/default.jpg              False   \n",
       "2      https://i.ytimg.com/vi/5qpjK5DgCt4/default.jpg              False   \n",
       "3      https://i.ytimg.com/vi/d380meD0W0M/default.jpg              False   \n",
       "4      https://i.ytimg.com/vi/2Vv-BfVoq4g/default.jpg              False   \n",
       "...                                               ...                ...   \n",
       "40876  https://i.ytimg.com/vi/sGolxsMSGfQ/default.jpg              False   \n",
       "40877  https://i.ytimg.com/vi/8HNuRNi8t70/default.jpg              False   \n",
       "40878  https://i.ytimg.com/vi/GWlKEM3m2EE/default.jpg              False   \n",
       "40879  https://i.ytimg.com/vi/lbMKLzQ4cNQ/default.jpg              False   \n",
       "40880  https://i.ytimg.com/vi/POTgw38-m58/default.jpg              False   \n",
       "\n",
       "       ratings_disabled  video_error_or_removed  \\\n",
       "0                 False                   False   \n",
       "1                 False                   False   \n",
       "2                 False                   False   \n",
       "3                 False                   False   \n",
       "4                 False                   False   \n",
       "...                 ...                     ...   \n",
       "40876             False                   False   \n",
       "40877             False                   False   \n",
       "40878             False                   False   \n",
       "40879             False                   False   \n",
       "40880             False                   False   \n",
       "\n",
       "                                             description  \n",
       "0      Eminem's new track Walk on Water ft. Beyoncé i...  \n",
       "1      STill got a lot of packages. Probably will las...  \n",
       "2      WATCH MY PREVIOUS VIDEO ▶ \\n\\nSUBSCRIBE ► http...  \n",
       "3      I know it's been a while since we did this sho...  \n",
       "4      🎧: https://ad.gt/yt-perfect\\n💰: https://atlant...  \n",
       "...                                                  ...  \n",
       "40876  🚨 NEW MERCH! http://amzn.to/annoyingorange 🚨➤ ...  \n",
       "40877  ► Retrouvez vos programmes préférés : https://...  \n",
       "40878  Find out more about Kingdom Hearts 3: https://...  \n",
       "40879  Peter Navarro isn’t talking so tough now. Ana ...  \n",
       "40880  藝人：李妍瑾、玉兔、班傑、LaLa、小優、少少專家：陳筱屏(律師)、Wendy(心理師)、羅...  \n",
       "\n",
       "[40881 rows x 16 columns]"
      ]
     },
     "execution_count": 16,
     "metadata": {},
     "output_type": "execute_result"
    }
   ],
   "source": [
    "df1"
   ]
  },
  {
   "cell_type": "code",
   "execution_count": 17,
   "id": "9bad961b",
   "metadata": {},
   "outputs": [
    {
     "data": {
      "text/plain": [
       "Index(['video_id', 'trending_date', 'title', 'channel_title', 'category_id',\n",
       "       'publish_time', 'tags', 'views', 'likes', 'dislikes', 'comment_count',\n",
       "       'thumbnail_link', 'comments_disabled', 'ratings_disabled',\n",
       "       'video_error_or_removed', 'description'],\n",
       "      dtype='object')"
      ]
     },
     "execution_count": 17,
     "metadata": {},
     "output_type": "execute_result"
    }
   ],
   "source": [
    "df1.columns"
   ]
  },
  {
   "cell_type": "code",
   "execution_count": 18,
   "id": "ace9d152",
   "metadata": {},
   "outputs": [],
   "source": [
    "df1['country'] = 'CAN'"
   ]
  },
  {
   "cell_type": "code",
   "execution_count": 19,
   "id": "f7d1bd46",
   "metadata": {},
   "outputs": [
    {
     "data": {
      "text/html": [
       "<div>\n",
       "<style scoped>\n",
       "    .dataframe tbody tr th:only-of-type {\n",
       "        vertical-align: middle;\n",
       "    }\n",
       "\n",
       "    .dataframe tbody tr th {\n",
       "        vertical-align: top;\n",
       "    }\n",
       "\n",
       "    .dataframe thead th {\n",
       "        text-align: right;\n",
       "    }\n",
       "</style>\n",
       "<table border=\"1\" class=\"dataframe\">\n",
       "  <thead>\n",
       "    <tr style=\"text-align: right;\">\n",
       "      <th></th>\n",
       "      <th>video_id</th>\n",
       "      <th>trending_date</th>\n",
       "      <th>title</th>\n",
       "      <th>channel_title</th>\n",
       "      <th>category_id</th>\n",
       "      <th>publish_time</th>\n",
       "      <th>tags</th>\n",
       "      <th>views</th>\n",
       "      <th>likes</th>\n",
       "      <th>dislikes</th>\n",
       "      <th>comment_count</th>\n",
       "      <th>thumbnail_link</th>\n",
       "      <th>comments_disabled</th>\n",
       "      <th>ratings_disabled</th>\n",
       "      <th>video_error_or_removed</th>\n",
       "      <th>description</th>\n",
       "      <th>country</th>\n",
       "    </tr>\n",
       "  </thead>\n",
       "  <tbody>\n",
       "    <tr>\n",
       "      <th>0</th>\n",
       "      <td>n1WpP7iowLc</td>\n",
       "      <td>17.14.11</td>\n",
       "      <td>Eminem - Walk On Water (Audio) ft. Beyoncé</td>\n",
       "      <td>EminemVEVO</td>\n",
       "      <td>10</td>\n",
       "      <td>2017-11-10T17:00:03.000Z</td>\n",
       "      <td>Eminem|\"Walk\"|\"On\"|\"Water\"|\"Aftermath/Shady/In...</td>\n",
       "      <td>17158579</td>\n",
       "      <td>787425</td>\n",
       "      <td>43420</td>\n",
       "      <td>125882</td>\n",
       "      <td>https://i.ytimg.com/vi/n1WpP7iowLc/default.jpg</td>\n",
       "      <td>False</td>\n",
       "      <td>False</td>\n",
       "      <td>False</td>\n",
       "      <td>Eminem's new track Walk on Water ft. Beyoncé i...</td>\n",
       "      <td>CAN</td>\n",
       "    </tr>\n",
       "    <tr>\n",
       "      <th>1</th>\n",
       "      <td>0dBIkQ4Mz1M</td>\n",
       "      <td>17.14.11</td>\n",
       "      <td>PLUSH - Bad Unboxing Fan Mail</td>\n",
       "      <td>iDubbbzTV</td>\n",
       "      <td>23</td>\n",
       "      <td>2017-11-13T17:00:00.000Z</td>\n",
       "      <td>plush|\"bad unboxing\"|\"unboxing\"|\"fan mail\"|\"id...</td>\n",
       "      <td>1014651</td>\n",
       "      <td>127794</td>\n",
       "      <td>1688</td>\n",
       "      <td>13030</td>\n",
       "      <td>https://i.ytimg.com/vi/0dBIkQ4Mz1M/default.jpg</td>\n",
       "      <td>False</td>\n",
       "      <td>False</td>\n",
       "      <td>False</td>\n",
       "      <td>STill got a lot of packages. Probably will las...</td>\n",
       "      <td>CAN</td>\n",
       "    </tr>\n",
       "  </tbody>\n",
       "</table>\n",
       "</div>"
      ],
      "text/plain": [
       "      video_id trending_date                                       title  \\\n",
       "0  n1WpP7iowLc      17.14.11  Eminem - Walk On Water (Audio) ft. Beyoncé   \n",
       "1  0dBIkQ4Mz1M      17.14.11               PLUSH - Bad Unboxing Fan Mail   \n",
       "\n",
       "  channel_title  category_id              publish_time  \\\n",
       "0    EminemVEVO           10  2017-11-10T17:00:03.000Z   \n",
       "1     iDubbbzTV           23  2017-11-13T17:00:00.000Z   \n",
       "\n",
       "                                                tags     views   likes  \\\n",
       "0  Eminem|\"Walk\"|\"On\"|\"Water\"|\"Aftermath/Shady/In...  17158579  787425   \n",
       "1  plush|\"bad unboxing\"|\"unboxing\"|\"fan mail\"|\"id...   1014651  127794   \n",
       "\n",
       "   dislikes  comment_count                                  thumbnail_link  \\\n",
       "0     43420         125882  https://i.ytimg.com/vi/n1WpP7iowLc/default.jpg   \n",
       "1      1688          13030  https://i.ytimg.com/vi/0dBIkQ4Mz1M/default.jpg   \n",
       "\n",
       "   comments_disabled  ratings_disabled  video_error_or_removed  \\\n",
       "0              False             False                   False   \n",
       "1              False             False                   False   \n",
       "\n",
       "                                         description country  \n",
       "0  Eminem's new track Walk on Water ft. Beyoncé i...     CAN  \n",
       "1  STill got a lot of packages. Probably will las...     CAN  "
      ]
     },
     "execution_count": 19,
     "metadata": {},
     "output_type": "execute_result"
    }
   ],
   "source": [
    "df1.head(2)"
   ]
  },
  {
   "cell_type": "markdown",
   "id": "87380d4a",
   "metadata": {},
   "source": [
    "We merged america with Canada."
   ]
  },
  {
   "cell_type": "code",
   "execution_count": 20,
   "id": "49b4181d",
   "metadata": {
    "scrolled": true
   },
   "outputs": [],
   "source": [
    "frames = [df, df1]"
   ]
  },
  {
   "cell_type": "code",
   "execution_count": 21,
   "id": "9b800d0c",
   "metadata": {},
   "outputs": [],
   "source": [
    "video = pd.concat(frames)"
   ]
  },
  {
   "cell_type": "code",
   "execution_count": 22,
   "id": "b1213039",
   "metadata": {
    "scrolled": true
   },
   "outputs": [
    {
     "data": {
      "text/html": [
       "<div>\n",
       "<style scoped>\n",
       "    .dataframe tbody tr th:only-of-type {\n",
       "        vertical-align: middle;\n",
       "    }\n",
       "\n",
       "    .dataframe tbody tr th {\n",
       "        vertical-align: top;\n",
       "    }\n",
       "\n",
       "    .dataframe thead th {\n",
       "        text-align: right;\n",
       "    }\n",
       "</style>\n",
       "<table border=\"1\" class=\"dataframe\">\n",
       "  <thead>\n",
       "    <tr style=\"text-align: right;\">\n",
       "      <th></th>\n",
       "      <th>video_id</th>\n",
       "      <th>trending_date</th>\n",
       "      <th>title</th>\n",
       "      <th>channel_title</th>\n",
       "      <th>category_id</th>\n",
       "      <th>publish_time</th>\n",
       "      <th>tags</th>\n",
       "      <th>views</th>\n",
       "      <th>likes</th>\n",
       "      <th>dislikes</th>\n",
       "      <th>comment_count</th>\n",
       "      <th>thumbnail_link</th>\n",
       "      <th>comments_disabled</th>\n",
       "      <th>ratings_disabled</th>\n",
       "      <th>video_error_or_removed</th>\n",
       "      <th>description</th>\n",
       "      <th>country</th>\n",
       "    </tr>\n",
       "  </thead>\n",
       "  <tbody>\n",
       "    <tr>\n",
       "      <th>0</th>\n",
       "      <td>2kyS6SvSYSE</td>\n",
       "      <td>17.14.11</td>\n",
       "      <td>WE WANT TO TALK ABOUT OUR MARRIAGE</td>\n",
       "      <td>CaseyNeistat</td>\n",
       "      <td>22</td>\n",
       "      <td>2017-11-13T17:13:01.000Z</td>\n",
       "      <td>SHANtell martin</td>\n",
       "      <td>748374</td>\n",
       "      <td>57527</td>\n",
       "      <td>2966</td>\n",
       "      <td>15954</td>\n",
       "      <td>https://i.ytimg.com/vi/2kyS6SvSYSE/default.jpg</td>\n",
       "      <td>False</td>\n",
       "      <td>False</td>\n",
       "      <td>False</td>\n",
       "      <td>SHANTELL'S CHANNEL - https://www.youtube.com/s...</td>\n",
       "      <td>USA</td>\n",
       "    </tr>\n",
       "    <tr>\n",
       "      <th>1</th>\n",
       "      <td>1ZAPwfrtAFY</td>\n",
       "      <td>17.14.11</td>\n",
       "      <td>The Trump Presidency: Last Week Tonight with J...</td>\n",
       "      <td>LastWeekTonight</td>\n",
       "      <td>24</td>\n",
       "      <td>2017-11-13T07:30:00.000Z</td>\n",
       "      <td>last week tonight trump presidency|\"last week ...</td>\n",
       "      <td>2418783</td>\n",
       "      <td>97185</td>\n",
       "      <td>6146</td>\n",
       "      <td>12703</td>\n",
       "      <td>https://i.ytimg.com/vi/1ZAPwfrtAFY/default.jpg</td>\n",
       "      <td>False</td>\n",
       "      <td>False</td>\n",
       "      <td>False</td>\n",
       "      <td>One year after the presidential election, John...</td>\n",
       "      <td>USA</td>\n",
       "    </tr>\n",
       "    <tr>\n",
       "      <th>2</th>\n",
       "      <td>5qpjK5DgCt4</td>\n",
       "      <td>17.14.11</td>\n",
       "      <td>Racist Superman | Rudy Mancuso, King Bach &amp; Le...</td>\n",
       "      <td>Rudy Mancuso</td>\n",
       "      <td>23</td>\n",
       "      <td>2017-11-12T19:05:24.000Z</td>\n",
       "      <td>racist superman|\"rudy\"|\"mancuso\"|\"king\"|\"bach\"...</td>\n",
       "      <td>3191434</td>\n",
       "      <td>146033</td>\n",
       "      <td>5339</td>\n",
       "      <td>8181</td>\n",
       "      <td>https://i.ytimg.com/vi/5qpjK5DgCt4/default.jpg</td>\n",
       "      <td>False</td>\n",
       "      <td>False</td>\n",
       "      <td>False</td>\n",
       "      <td>WATCH MY PREVIOUS VIDEO ▶ \\n\\nSUBSCRIBE ► http...</td>\n",
       "      <td>USA</td>\n",
       "    </tr>\n",
       "    <tr>\n",
       "      <th>3</th>\n",
       "      <td>puqaWrEC7tY</td>\n",
       "      <td>17.14.11</td>\n",
       "      <td>Nickelback Lyrics: Real or Fake?</td>\n",
       "      <td>Good Mythical Morning</td>\n",
       "      <td>24</td>\n",
       "      <td>2017-11-13T11:00:04.000Z</td>\n",
       "      <td>rhett and link|\"gmm\"|\"good mythical morning\"|\"...</td>\n",
       "      <td>343168</td>\n",
       "      <td>10172</td>\n",
       "      <td>666</td>\n",
       "      <td>2146</td>\n",
       "      <td>https://i.ytimg.com/vi/puqaWrEC7tY/default.jpg</td>\n",
       "      <td>False</td>\n",
       "      <td>False</td>\n",
       "      <td>False</td>\n",
       "      <td>Today we find out if Link is a Nickelback amat...</td>\n",
       "      <td>USA</td>\n",
       "    </tr>\n",
       "    <tr>\n",
       "      <th>4</th>\n",
       "      <td>d380meD0W0M</td>\n",
       "      <td>17.14.11</td>\n",
       "      <td>I Dare You: GOING BALD!?</td>\n",
       "      <td>nigahiga</td>\n",
       "      <td>24</td>\n",
       "      <td>2017-11-12T18:01:41.000Z</td>\n",
       "      <td>ryan|\"higa\"|\"higatv\"|\"nigahiga\"|\"i dare you\"|\"...</td>\n",
       "      <td>2095731</td>\n",
       "      <td>132235</td>\n",
       "      <td>1989</td>\n",
       "      <td>17518</td>\n",
       "      <td>https://i.ytimg.com/vi/d380meD0W0M/default.jpg</td>\n",
       "      <td>False</td>\n",
       "      <td>False</td>\n",
       "      <td>False</td>\n",
       "      <td>I know it's been a while since we did this sho...</td>\n",
       "      <td>USA</td>\n",
       "    </tr>\n",
       "    <tr>\n",
       "      <th>...</th>\n",
       "      <td>...</td>\n",
       "      <td>...</td>\n",
       "      <td>...</td>\n",
       "      <td>...</td>\n",
       "      <td>...</td>\n",
       "      <td>...</td>\n",
       "      <td>...</td>\n",
       "      <td>...</td>\n",
       "      <td>...</td>\n",
       "      <td>...</td>\n",
       "      <td>...</td>\n",
       "      <td>...</td>\n",
       "      <td>...</td>\n",
       "      <td>...</td>\n",
       "      <td>...</td>\n",
       "      <td>...</td>\n",
       "      <td>...</td>\n",
       "    </tr>\n",
       "    <tr>\n",
       "      <th>40876</th>\n",
       "      <td>sGolxsMSGfQ</td>\n",
       "      <td>18.14.06</td>\n",
       "      <td>HOW2: How to Solve a Mystery</td>\n",
       "      <td>Annoying Orange</td>\n",
       "      <td>24</td>\n",
       "      <td>2018-06-13T18:00:07.000Z</td>\n",
       "      <td>annoying orange|\"funny\"|\"fruit\"|\"talking\"|\"ani...</td>\n",
       "      <td>80685</td>\n",
       "      <td>1701</td>\n",
       "      <td>99</td>\n",
       "      <td>1312</td>\n",
       "      <td>https://i.ytimg.com/vi/sGolxsMSGfQ/default.jpg</td>\n",
       "      <td>False</td>\n",
       "      <td>False</td>\n",
       "      <td>False</td>\n",
       "      <td>🚨 NEW MERCH! http://amzn.to/annoyingorange 🚨➤ ...</td>\n",
       "      <td>CAN</td>\n",
       "    </tr>\n",
       "    <tr>\n",
       "      <th>40877</th>\n",
       "      <td>8HNuRNi8t70</td>\n",
       "      <td>18.14.06</td>\n",
       "      <td>Eli Lik Lik Episode 13 Partie 01</td>\n",
       "      <td>Elhiwar Ettounsi</td>\n",
       "      <td>24</td>\n",
       "      <td>2018-06-13T19:01:18.000Z</td>\n",
       "      <td>hkayet tounsia|\"elhiwar ettounsi\"|\"denya okhra...</td>\n",
       "      <td>103339</td>\n",
       "      <td>460</td>\n",
       "      <td>66</td>\n",
       "      <td>51</td>\n",
       "      <td>https://i.ytimg.com/vi/8HNuRNi8t70/default.jpg</td>\n",
       "      <td>False</td>\n",
       "      <td>False</td>\n",
       "      <td>False</td>\n",
       "      <td>► Retrouvez vos programmes préférés : https://...</td>\n",
       "      <td>CAN</td>\n",
       "    </tr>\n",
       "    <tr>\n",
       "      <th>40878</th>\n",
       "      <td>GWlKEM3m2EE</td>\n",
       "      <td>18.14.06</td>\n",
       "      <td>KINGDOM HEARTS III – SQUARE ENIX E3 SHOWCASE 2...</td>\n",
       "      <td>Kingdom Hearts</td>\n",
       "      <td>20</td>\n",
       "      <td>2018-06-11T17:30:53.000Z</td>\n",
       "      <td>Kingdom Hearts|\"KH3\"|\"Kingdom Hearts 3\"|\"Froze...</td>\n",
       "      <td>773347</td>\n",
       "      <td>25900</td>\n",
       "      <td>224</td>\n",
       "      <td>3881</td>\n",
       "      <td>https://i.ytimg.com/vi/GWlKEM3m2EE/default.jpg</td>\n",
       "      <td>False</td>\n",
       "      <td>False</td>\n",
       "      <td>False</td>\n",
       "      <td>Find out more about Kingdom Hearts 3: https://...</td>\n",
       "      <td>CAN</td>\n",
       "    </tr>\n",
       "    <tr>\n",
       "      <th>40879</th>\n",
       "      <td>lbMKLzQ4cNQ</td>\n",
       "      <td>18.14.06</td>\n",
       "      <td>Trump Advisor Grovels To Trudeau</td>\n",
       "      <td>The Young Turks</td>\n",
       "      <td>25</td>\n",
       "      <td>2018-06-13T04:00:05.000Z</td>\n",
       "      <td>180612__TB02SorryExcuse|\"News\"|\"Politics\"|\"The...</td>\n",
       "      <td>115225</td>\n",
       "      <td>2115</td>\n",
       "      <td>182</td>\n",
       "      <td>1672</td>\n",
       "      <td>https://i.ytimg.com/vi/lbMKLzQ4cNQ/default.jpg</td>\n",
       "      <td>False</td>\n",
       "      <td>False</td>\n",
       "      <td>False</td>\n",
       "      <td>Peter Navarro isn’t talking so tough now. Ana ...</td>\n",
       "      <td>CAN</td>\n",
       "    </tr>\n",
       "    <tr>\n",
       "      <th>40880</th>\n",
       "      <td>POTgw38-m58</td>\n",
       "      <td>18.14.06</td>\n",
       "      <td>【完整版】遇到恐怖情人該怎麼辦？2018.06.13小明星大跟班</td>\n",
       "      <td>我愛小明星大跟班</td>\n",
       "      <td>24</td>\n",
       "      <td>2018-06-13T16:00:03.000Z</td>\n",
       "      <td>吳宗憲|\"吳姍儒\"|\"小明星大跟班\"|\"Sandy\"|\"Jacky wu\"|\"憲哥\"|\"中天...</td>\n",
       "      <td>107392</td>\n",
       "      <td>300</td>\n",
       "      <td>62</td>\n",
       "      <td>251</td>\n",
       "      <td>https://i.ytimg.com/vi/POTgw38-m58/default.jpg</td>\n",
       "      <td>False</td>\n",
       "      <td>False</td>\n",
       "      <td>False</td>\n",
       "      <td>藝人：李妍瑾、玉兔、班傑、LaLa、小優、少少專家：陳筱屏(律師)、Wendy(心理師)、羅...</td>\n",
       "      <td>CAN</td>\n",
       "    </tr>\n",
       "  </tbody>\n",
       "</table>\n",
       "<p>81830 rows × 17 columns</p>\n",
       "</div>"
      ],
      "text/plain": [
       "          video_id trending_date  \\\n",
       "0      2kyS6SvSYSE      17.14.11   \n",
       "1      1ZAPwfrtAFY      17.14.11   \n",
       "2      5qpjK5DgCt4      17.14.11   \n",
       "3      puqaWrEC7tY      17.14.11   \n",
       "4      d380meD0W0M      17.14.11   \n",
       "...            ...           ...   \n",
       "40876  sGolxsMSGfQ      18.14.06   \n",
       "40877  8HNuRNi8t70      18.14.06   \n",
       "40878  GWlKEM3m2EE      18.14.06   \n",
       "40879  lbMKLzQ4cNQ      18.14.06   \n",
       "40880  POTgw38-m58      18.14.06   \n",
       "\n",
       "                                                   title  \\\n",
       "0                     WE WANT TO TALK ABOUT OUR MARRIAGE   \n",
       "1      The Trump Presidency: Last Week Tonight with J...   \n",
       "2      Racist Superman | Rudy Mancuso, King Bach & Le...   \n",
       "3                       Nickelback Lyrics: Real or Fake?   \n",
       "4                               I Dare You: GOING BALD!?   \n",
       "...                                                  ...   \n",
       "40876                       HOW2: How to Solve a Mystery   \n",
       "40877                   Eli Lik Lik Episode 13 Partie 01   \n",
       "40878  KINGDOM HEARTS III – SQUARE ENIX E3 SHOWCASE 2...   \n",
       "40879                   Trump Advisor Grovels To Trudeau   \n",
       "40880                   【完整版】遇到恐怖情人該怎麼辦？2018.06.13小明星大跟班   \n",
       "\n",
       "               channel_title  category_id              publish_time  \\\n",
       "0               CaseyNeistat           22  2017-11-13T17:13:01.000Z   \n",
       "1            LastWeekTonight           24  2017-11-13T07:30:00.000Z   \n",
       "2               Rudy Mancuso           23  2017-11-12T19:05:24.000Z   \n",
       "3      Good Mythical Morning           24  2017-11-13T11:00:04.000Z   \n",
       "4                   nigahiga           24  2017-11-12T18:01:41.000Z   \n",
       "...                      ...          ...                       ...   \n",
       "40876        Annoying Orange           24  2018-06-13T18:00:07.000Z   \n",
       "40877       Elhiwar Ettounsi           24  2018-06-13T19:01:18.000Z   \n",
       "40878         Kingdom Hearts           20  2018-06-11T17:30:53.000Z   \n",
       "40879        The Young Turks           25  2018-06-13T04:00:05.000Z   \n",
       "40880               我愛小明星大跟班           24  2018-06-13T16:00:03.000Z   \n",
       "\n",
       "                                                    tags    views   likes  \\\n",
       "0                                        SHANtell martin   748374   57527   \n",
       "1      last week tonight trump presidency|\"last week ...  2418783   97185   \n",
       "2      racist superman|\"rudy\"|\"mancuso\"|\"king\"|\"bach\"...  3191434  146033   \n",
       "3      rhett and link|\"gmm\"|\"good mythical morning\"|\"...   343168   10172   \n",
       "4      ryan|\"higa\"|\"higatv\"|\"nigahiga\"|\"i dare you\"|\"...  2095731  132235   \n",
       "...                                                  ...      ...     ...   \n",
       "40876  annoying orange|\"funny\"|\"fruit\"|\"talking\"|\"ani...    80685    1701   \n",
       "40877  hkayet tounsia|\"elhiwar ettounsi\"|\"denya okhra...   103339     460   \n",
       "40878  Kingdom Hearts|\"KH3\"|\"Kingdom Hearts 3\"|\"Froze...   773347   25900   \n",
       "40879  180612__TB02SorryExcuse|\"News\"|\"Politics\"|\"The...   115225    2115   \n",
       "40880  吳宗憲|\"吳姍儒\"|\"小明星大跟班\"|\"Sandy\"|\"Jacky wu\"|\"憲哥\"|\"中天...   107392     300   \n",
       "\n",
       "       dislikes  comment_count  \\\n",
       "0          2966          15954   \n",
       "1          6146          12703   \n",
       "2          5339           8181   \n",
       "3           666           2146   \n",
       "4          1989          17518   \n",
       "...         ...            ...   \n",
       "40876        99           1312   \n",
       "40877        66             51   \n",
       "40878       224           3881   \n",
       "40879       182           1672   \n",
       "40880        62            251   \n",
       "\n",
       "                                       thumbnail_link  comments_disabled  \\\n",
       "0      https://i.ytimg.com/vi/2kyS6SvSYSE/default.jpg              False   \n",
       "1      https://i.ytimg.com/vi/1ZAPwfrtAFY/default.jpg              False   \n",
       "2      https://i.ytimg.com/vi/5qpjK5DgCt4/default.jpg              False   \n",
       "3      https://i.ytimg.com/vi/puqaWrEC7tY/default.jpg              False   \n",
       "4      https://i.ytimg.com/vi/d380meD0W0M/default.jpg              False   \n",
       "...                                               ...                ...   \n",
       "40876  https://i.ytimg.com/vi/sGolxsMSGfQ/default.jpg              False   \n",
       "40877  https://i.ytimg.com/vi/8HNuRNi8t70/default.jpg              False   \n",
       "40878  https://i.ytimg.com/vi/GWlKEM3m2EE/default.jpg              False   \n",
       "40879  https://i.ytimg.com/vi/lbMKLzQ4cNQ/default.jpg              False   \n",
       "40880  https://i.ytimg.com/vi/POTgw38-m58/default.jpg              False   \n",
       "\n",
       "       ratings_disabled  video_error_or_removed  \\\n",
       "0                 False                   False   \n",
       "1                 False                   False   \n",
       "2                 False                   False   \n",
       "3                 False                   False   \n",
       "4                 False                   False   \n",
       "...                 ...                     ...   \n",
       "40876             False                   False   \n",
       "40877             False                   False   \n",
       "40878             False                   False   \n",
       "40879             False                   False   \n",
       "40880             False                   False   \n",
       "\n",
       "                                             description country  \n",
       "0      SHANTELL'S CHANNEL - https://www.youtube.com/s...     USA  \n",
       "1      One year after the presidential election, John...     USA  \n",
       "2      WATCH MY PREVIOUS VIDEO ▶ \\n\\nSUBSCRIBE ► http...     USA  \n",
       "3      Today we find out if Link is a Nickelback amat...     USA  \n",
       "4      I know it's been a while since we did this sho...     USA  \n",
       "...                                                  ...     ...  \n",
       "40876  🚨 NEW MERCH! http://amzn.to/annoyingorange 🚨➤ ...     CAN  \n",
       "40877  ► Retrouvez vos programmes préférés : https://...     CAN  \n",
       "40878  Find out more about Kingdom Hearts 3: https://...     CAN  \n",
       "40879  Peter Navarro isn’t talking so tough now. Ana ...     CAN  \n",
       "40880  藝人：李妍瑾、玉兔、班傑、LaLa、小優、少少專家：陳筱屏(律師)、Wendy(心理師)、羅...     CAN  \n",
       "\n",
       "[81830 rows x 17 columns]"
      ]
     },
     "execution_count": 22,
     "metadata": {},
     "output_type": "execute_result"
    }
   ],
   "source": [
    "video"
   ]
  },
  {
   "cell_type": "code",
   "execution_count": 23,
   "id": "a9a71667",
   "metadata": {},
   "outputs": [
    {
     "data": {
      "text/plain": [
       "Index(['video_id', 'trending_date', 'title', 'channel_title', 'category_id',\n",
       "       'publish_time', 'tags', 'views', 'likes', 'dislikes', 'comment_count',\n",
       "       'thumbnail_link', 'comments_disabled', 'ratings_disabled',\n",
       "       'video_error_or_removed', 'description', 'country'],\n",
       "      dtype='object')"
      ]
     },
     "execution_count": 23,
     "metadata": {},
     "output_type": "execute_result"
    }
   ],
   "source": [
    "video.columns"
   ]
  },
  {
   "cell_type": "code",
   "execution_count": 24,
   "id": "b8ea46a7",
   "metadata": {},
   "outputs": [
    {
     "data": {
      "text/plain": [
       "(81830, 17)"
      ]
     },
     "execution_count": 24,
     "metadata": {},
     "output_type": "execute_result"
    }
   ],
   "source": [
    "video.shape"
   ]
  },
  {
   "cell_type": "code",
   "execution_count": 25,
   "id": "c8879cca",
   "metadata": {
    "scrolled": true
   },
   "outputs": [
    {
     "name": "stdout",
     "output_type": "stream",
     "text": [
      "<class 'pandas.core.frame.DataFrame'>\n",
      "Int64Index: 81830 entries, 0 to 40880\n",
      "Data columns (total 17 columns):\n",
      " #   Column                  Non-Null Count  Dtype \n",
      "---  ------                  --------------  ----- \n",
      " 0   video_id                81830 non-null  object\n",
      " 1   trending_date           81830 non-null  object\n",
      " 2   title                   81830 non-null  object\n",
      " 3   channel_title           81830 non-null  object\n",
      " 4   category_id             81830 non-null  int64 \n",
      " 5   publish_time            81830 non-null  object\n",
      " 6   tags                    81830 non-null  object\n",
      " 7   views                   81830 non-null  int64 \n",
      " 8   likes                   81830 non-null  int64 \n",
      " 9   dislikes                81830 non-null  int64 \n",
      " 10  comment_count           81830 non-null  int64 \n",
      " 11  thumbnail_link          81830 non-null  object\n",
      " 12  comments_disabled       81830 non-null  bool  \n",
      " 13  ratings_disabled        81830 non-null  bool  \n",
      " 14  video_error_or_removed  81830 non-null  bool  \n",
      " 15  description             79964 non-null  object\n",
      " 16  country                 81830 non-null  object\n",
      "dtypes: bool(3), int64(5), object(9)\n",
      "memory usage: 9.6+ MB\n"
     ]
    }
   ],
   "source": [
    "video.info()"
   ]
  },
  {
   "cell_type": "code",
   "execution_count": 26,
   "id": "6253bbc3",
   "metadata": {},
   "outputs": [],
   "source": [
    "video['publish_time'] = pd.to_datetime(video['publish_time']\n",
    "                                       , errors='coerce', format='%Y-%m-%dT%H:%M:%S.%fZ')"
   ]
  },
  {
   "cell_type": "code",
   "execution_count": 27,
   "id": "7d6e8631",
   "metadata": {
    "scrolled": true
   },
   "outputs": [
    {
     "data": {
      "text/html": [
       "<div>\n",
       "<style scoped>\n",
       "    .dataframe tbody tr th:only-of-type {\n",
       "        vertical-align: middle;\n",
       "    }\n",
       "\n",
       "    .dataframe tbody tr th {\n",
       "        vertical-align: top;\n",
       "    }\n",
       "\n",
       "    .dataframe thead th {\n",
       "        text-align: right;\n",
       "    }\n",
       "</style>\n",
       "<table border=\"1\" class=\"dataframe\">\n",
       "  <thead>\n",
       "    <tr style=\"text-align: right;\">\n",
       "      <th></th>\n",
       "      <th>video_id</th>\n",
       "      <th>trending_date</th>\n",
       "      <th>title</th>\n",
       "      <th>channel_title</th>\n",
       "      <th>category_id</th>\n",
       "      <th>publish_time</th>\n",
       "      <th>tags</th>\n",
       "      <th>views</th>\n",
       "      <th>likes</th>\n",
       "      <th>dislikes</th>\n",
       "      <th>comment_count</th>\n",
       "      <th>thumbnail_link</th>\n",
       "      <th>comments_disabled</th>\n",
       "      <th>ratings_disabled</th>\n",
       "      <th>video_error_or_removed</th>\n",
       "      <th>description</th>\n",
       "      <th>country</th>\n",
       "    </tr>\n",
       "  </thead>\n",
       "  <tbody>\n",
       "    <tr>\n",
       "      <th>0</th>\n",
       "      <td>2kyS6SvSYSE</td>\n",
       "      <td>17.14.11</td>\n",
       "      <td>WE WANT TO TALK ABOUT OUR MARRIAGE</td>\n",
       "      <td>CaseyNeistat</td>\n",
       "      <td>22</td>\n",
       "      <td>2017-11-13 17:13:01</td>\n",
       "      <td>SHANtell martin</td>\n",
       "      <td>748374</td>\n",
       "      <td>57527</td>\n",
       "      <td>2966</td>\n",
       "      <td>15954</td>\n",
       "      <td>https://i.ytimg.com/vi/2kyS6SvSYSE/default.jpg</td>\n",
       "      <td>False</td>\n",
       "      <td>False</td>\n",
       "      <td>False</td>\n",
       "      <td>SHANTELL'S CHANNEL - https://www.youtube.com/s...</td>\n",
       "      <td>USA</td>\n",
       "    </tr>\n",
       "    <tr>\n",
       "      <th>1</th>\n",
       "      <td>1ZAPwfrtAFY</td>\n",
       "      <td>17.14.11</td>\n",
       "      <td>The Trump Presidency: Last Week Tonight with J...</td>\n",
       "      <td>LastWeekTonight</td>\n",
       "      <td>24</td>\n",
       "      <td>2017-11-13 07:30:00</td>\n",
       "      <td>last week tonight trump presidency|\"last week ...</td>\n",
       "      <td>2418783</td>\n",
       "      <td>97185</td>\n",
       "      <td>6146</td>\n",
       "      <td>12703</td>\n",
       "      <td>https://i.ytimg.com/vi/1ZAPwfrtAFY/default.jpg</td>\n",
       "      <td>False</td>\n",
       "      <td>False</td>\n",
       "      <td>False</td>\n",
       "      <td>One year after the presidential election, John...</td>\n",
       "      <td>USA</td>\n",
       "    </tr>\n",
       "  </tbody>\n",
       "</table>\n",
       "</div>"
      ],
      "text/plain": [
       "      video_id trending_date  \\\n",
       "0  2kyS6SvSYSE      17.14.11   \n",
       "1  1ZAPwfrtAFY      17.14.11   \n",
       "\n",
       "                                               title    channel_title  \\\n",
       "0                 WE WANT TO TALK ABOUT OUR MARRIAGE     CaseyNeistat   \n",
       "1  The Trump Presidency: Last Week Tonight with J...  LastWeekTonight   \n",
       "\n",
       "   category_id        publish_time  \\\n",
       "0           22 2017-11-13 17:13:01   \n",
       "1           24 2017-11-13 07:30:00   \n",
       "\n",
       "                                                tags    views  likes  \\\n",
       "0                                    SHANtell martin   748374  57527   \n",
       "1  last week tonight trump presidency|\"last week ...  2418783  97185   \n",
       "\n",
       "   dislikes  comment_count                                  thumbnail_link  \\\n",
       "0      2966          15954  https://i.ytimg.com/vi/2kyS6SvSYSE/default.jpg   \n",
       "1      6146          12703  https://i.ytimg.com/vi/1ZAPwfrtAFY/default.jpg   \n",
       "\n",
       "   comments_disabled  ratings_disabled  video_error_or_removed  \\\n",
       "0              False             False                   False   \n",
       "1              False             False                   False   \n",
       "\n",
       "                                         description country  \n",
       "0  SHANTELL'S CHANNEL - https://www.youtube.com/s...     USA  \n",
       "1  One year after the presidential election, John...     USA  "
      ]
     },
     "execution_count": 27,
     "metadata": {},
     "output_type": "execute_result"
    }
   ],
   "source": [
    "video.head(2)"
   ]
  },
  {
   "cell_type": "code",
   "execution_count": 28,
   "id": "319a1323",
   "metadata": {},
   "outputs": [
    {
     "name": "stdout",
     "output_type": "stream",
     "text": [
      "<class 'pandas.core.frame.DataFrame'>\n",
      "Int64Index: 81830 entries, 0 to 40880\n",
      "Data columns (total 17 columns):\n",
      " #   Column                  Non-Null Count  Dtype         \n",
      "---  ------                  --------------  -----         \n",
      " 0   video_id                81830 non-null  object        \n",
      " 1   trending_date           81830 non-null  object        \n",
      " 2   title                   81830 non-null  object        \n",
      " 3   channel_title           81830 non-null  object        \n",
      " 4   category_id             81830 non-null  int64         \n",
      " 5   publish_time            81830 non-null  datetime64[ns]\n",
      " 6   tags                    81830 non-null  object        \n",
      " 7   views                   81830 non-null  int64         \n",
      " 8   likes                   81830 non-null  int64         \n",
      " 9   dislikes                81830 non-null  int64         \n",
      " 10  comment_count           81830 non-null  int64         \n",
      " 11  thumbnail_link          81830 non-null  object        \n",
      " 12  comments_disabled       81830 non-null  bool          \n",
      " 13  ratings_disabled        81830 non-null  bool          \n",
      " 14  video_error_or_removed  81830 non-null  bool          \n",
      " 15  description             79964 non-null  object        \n",
      " 16  country                 81830 non-null  object        \n",
      "dtypes: bool(3), datetime64[ns](1), int64(5), object(8)\n",
      "memory usage: 9.6+ MB\n"
     ]
    }
   ],
   "source": [
    "video.info()"
   ]
  },
  {
   "cell_type": "code",
   "execution_count": 29,
   "id": "40083a92",
   "metadata": {},
   "outputs": [],
   "source": [
    "video['trending_date'] = video['trending_date'].astype('str') \n",
    "date_pieces = (video['trending_date']\n",
    "                   .str.split('.'))\n",
    "video['trending_Year'] = date_pieces.str[0].astype(int)\n",
    "video['trending_Day'] = date_pieces.str[1].astype(int)\n",
    "video['trending_Month'] = date_pieces.str[2].astype(int)"
   ]
  },
  {
   "cell_type": "code",
   "execution_count": 30,
   "id": "1a294ae9",
   "metadata": {},
   "outputs": [
    {
     "data": {
      "text/html": [
       "<div>\n",
       "<style scoped>\n",
       "    .dataframe tbody tr th:only-of-type {\n",
       "        vertical-align: middle;\n",
       "    }\n",
       "\n",
       "    .dataframe tbody tr th {\n",
       "        vertical-align: top;\n",
       "    }\n",
       "\n",
       "    .dataframe thead th {\n",
       "        text-align: right;\n",
       "    }\n",
       "</style>\n",
       "<table border=\"1\" class=\"dataframe\">\n",
       "  <thead>\n",
       "    <tr style=\"text-align: right;\">\n",
       "      <th></th>\n",
       "      <th>video_id</th>\n",
       "      <th>trending_date</th>\n",
       "      <th>title</th>\n",
       "      <th>channel_title</th>\n",
       "      <th>category_id</th>\n",
       "      <th>publish_time</th>\n",
       "      <th>tags</th>\n",
       "      <th>views</th>\n",
       "      <th>likes</th>\n",
       "      <th>dislikes</th>\n",
       "      <th>comment_count</th>\n",
       "      <th>thumbnail_link</th>\n",
       "      <th>comments_disabled</th>\n",
       "      <th>ratings_disabled</th>\n",
       "      <th>video_error_or_removed</th>\n",
       "      <th>description</th>\n",
       "      <th>country</th>\n",
       "      <th>trending_Year</th>\n",
       "      <th>trending_Day</th>\n",
       "      <th>trending_Month</th>\n",
       "    </tr>\n",
       "  </thead>\n",
       "  <tbody>\n",
       "    <tr>\n",
       "      <th>0</th>\n",
       "      <td>2kyS6SvSYSE</td>\n",
       "      <td>17.14.11</td>\n",
       "      <td>WE WANT TO TALK ABOUT OUR MARRIAGE</td>\n",
       "      <td>CaseyNeistat</td>\n",
       "      <td>22</td>\n",
       "      <td>2017-11-13 17:13:01</td>\n",
       "      <td>SHANtell martin</td>\n",
       "      <td>748374</td>\n",
       "      <td>57527</td>\n",
       "      <td>2966</td>\n",
       "      <td>15954</td>\n",
       "      <td>https://i.ytimg.com/vi/2kyS6SvSYSE/default.jpg</td>\n",
       "      <td>False</td>\n",
       "      <td>False</td>\n",
       "      <td>False</td>\n",
       "      <td>SHANTELL'S CHANNEL - https://www.youtube.com/s...</td>\n",
       "      <td>USA</td>\n",
       "      <td>17</td>\n",
       "      <td>14</td>\n",
       "      <td>11</td>\n",
       "    </tr>\n",
       "    <tr>\n",
       "      <th>1</th>\n",
       "      <td>1ZAPwfrtAFY</td>\n",
       "      <td>17.14.11</td>\n",
       "      <td>The Trump Presidency: Last Week Tonight with J...</td>\n",
       "      <td>LastWeekTonight</td>\n",
       "      <td>24</td>\n",
       "      <td>2017-11-13 07:30:00</td>\n",
       "      <td>last week tonight trump presidency|\"last week ...</td>\n",
       "      <td>2418783</td>\n",
       "      <td>97185</td>\n",
       "      <td>6146</td>\n",
       "      <td>12703</td>\n",
       "      <td>https://i.ytimg.com/vi/1ZAPwfrtAFY/default.jpg</td>\n",
       "      <td>False</td>\n",
       "      <td>False</td>\n",
       "      <td>False</td>\n",
       "      <td>One year after the presidential election, John...</td>\n",
       "      <td>USA</td>\n",
       "      <td>17</td>\n",
       "      <td>14</td>\n",
       "      <td>11</td>\n",
       "    </tr>\n",
       "  </tbody>\n",
       "</table>\n",
       "</div>"
      ],
      "text/plain": [
       "      video_id trending_date  \\\n",
       "0  2kyS6SvSYSE      17.14.11   \n",
       "1  1ZAPwfrtAFY      17.14.11   \n",
       "\n",
       "                                               title    channel_title  \\\n",
       "0                 WE WANT TO TALK ABOUT OUR MARRIAGE     CaseyNeistat   \n",
       "1  The Trump Presidency: Last Week Tonight with J...  LastWeekTonight   \n",
       "\n",
       "   category_id        publish_time  \\\n",
       "0           22 2017-11-13 17:13:01   \n",
       "1           24 2017-11-13 07:30:00   \n",
       "\n",
       "                                                tags    views  likes  \\\n",
       "0                                    SHANtell martin   748374  57527   \n",
       "1  last week tonight trump presidency|\"last week ...  2418783  97185   \n",
       "\n",
       "   dislikes  comment_count                                  thumbnail_link  \\\n",
       "0      2966          15954  https://i.ytimg.com/vi/2kyS6SvSYSE/default.jpg   \n",
       "1      6146          12703  https://i.ytimg.com/vi/1ZAPwfrtAFY/default.jpg   \n",
       "\n",
       "   comments_disabled  ratings_disabled  video_error_or_removed  \\\n",
       "0              False             False                   False   \n",
       "1              False             False                   False   \n",
       "\n",
       "                                         description country  trending_Year  \\\n",
       "0  SHANTELL'S CHANNEL - https://www.youtube.com/s...     USA             17   \n",
       "1  One year after the presidential election, John...     USA             17   \n",
       "\n",
       "   trending_Day  trending_Month  \n",
       "0            14              11  \n",
       "1            14              11  "
      ]
     },
     "execution_count": 30,
     "metadata": {},
     "output_type": "execute_result"
    }
   ],
   "source": [
    "video.head(2)"
   ]
  },
  {
   "cell_type": "code",
   "execution_count": 31,
   "id": "1eb353fb",
   "metadata": {
    "scrolled": false
   },
   "outputs": [
    {
     "data": {
      "text/html": [
       "<div>\n",
       "<style scoped>\n",
       "    .dataframe tbody tr th:only-of-type {\n",
       "        vertical-align: middle;\n",
       "    }\n",
       "\n",
       "    .dataframe tbody tr th {\n",
       "        vertical-align: top;\n",
       "    }\n",
       "\n",
       "    .dataframe thead th {\n",
       "        text-align: right;\n",
       "    }\n",
       "</style>\n",
       "<table border=\"1\" class=\"dataframe\">\n",
       "  <thead>\n",
       "    <tr style=\"text-align: right;\">\n",
       "      <th></th>\n",
       "      <th>video_id</th>\n",
       "      <th>trending_date</th>\n",
       "      <th>title</th>\n",
       "      <th>channel_title</th>\n",
       "      <th>category_id</th>\n",
       "      <th>publish_time</th>\n",
       "      <th>tags</th>\n",
       "      <th>views</th>\n",
       "      <th>likes</th>\n",
       "      <th>dislikes</th>\n",
       "      <th>comment_count</th>\n",
       "      <th>thumbnail_link</th>\n",
       "      <th>comments_disabled</th>\n",
       "      <th>ratings_disabled</th>\n",
       "      <th>video_error_or_removed</th>\n",
       "      <th>description</th>\n",
       "      <th>country</th>\n",
       "      <th>trending_Year</th>\n",
       "      <th>trending_Day</th>\n",
       "      <th>trending_Month</th>\n",
       "    </tr>\n",
       "  </thead>\n",
       "  <tbody>\n",
       "    <tr>\n",
       "      <th>0</th>\n",
       "      <td>2kyS6SvSYSE</td>\n",
       "      <td>17.14.11</td>\n",
       "      <td>WE WANT TO TALK ABOUT OUR MARRIAGE</td>\n",
       "      <td>CaseyNeistat</td>\n",
       "      <td>22</td>\n",
       "      <td>2017-11-13 17:13:01</td>\n",
       "      <td>SHANtell martin</td>\n",
       "      <td>748374</td>\n",
       "      <td>57527</td>\n",
       "      <td>2966</td>\n",
       "      <td>15954</td>\n",
       "      <td>https://i.ytimg.com/vi/2kyS6SvSYSE/default.jpg</td>\n",
       "      <td>False</td>\n",
       "      <td>False</td>\n",
       "      <td>False</td>\n",
       "      <td>SHANTELL'S CHANNEL - https://www.youtube.com/s...</td>\n",
       "      <td>USA</td>\n",
       "      <td>17</td>\n",
       "      <td>14</td>\n",
       "      <td>11</td>\n",
       "    </tr>\n",
       "    <tr>\n",
       "      <th>1</th>\n",
       "      <td>1ZAPwfrtAFY</td>\n",
       "      <td>17.14.11</td>\n",
       "      <td>The Trump Presidency: Last Week Tonight with J...</td>\n",
       "      <td>LastWeekTonight</td>\n",
       "      <td>24</td>\n",
       "      <td>2017-11-13 07:30:00</td>\n",
       "      <td>last week tonight trump presidency|\"last week ...</td>\n",
       "      <td>2418783</td>\n",
       "      <td>97185</td>\n",
       "      <td>6146</td>\n",
       "      <td>12703</td>\n",
       "      <td>https://i.ytimg.com/vi/1ZAPwfrtAFY/default.jpg</td>\n",
       "      <td>False</td>\n",
       "      <td>False</td>\n",
       "      <td>False</td>\n",
       "      <td>One year after the presidential election, John...</td>\n",
       "      <td>USA</td>\n",
       "      <td>17</td>\n",
       "      <td>14</td>\n",
       "      <td>11</td>\n",
       "    </tr>\n",
       "    <tr>\n",
       "      <th>2</th>\n",
       "      <td>5qpjK5DgCt4</td>\n",
       "      <td>17.14.11</td>\n",
       "      <td>Racist Superman | Rudy Mancuso, King Bach &amp; Le...</td>\n",
       "      <td>Rudy Mancuso</td>\n",
       "      <td>23</td>\n",
       "      <td>2017-11-12 19:05:24</td>\n",
       "      <td>racist superman|\"rudy\"|\"mancuso\"|\"king\"|\"bach\"...</td>\n",
       "      <td>3191434</td>\n",
       "      <td>146033</td>\n",
       "      <td>5339</td>\n",
       "      <td>8181</td>\n",
       "      <td>https://i.ytimg.com/vi/5qpjK5DgCt4/default.jpg</td>\n",
       "      <td>False</td>\n",
       "      <td>False</td>\n",
       "      <td>False</td>\n",
       "      <td>WATCH MY PREVIOUS VIDEO ▶ \\n\\nSUBSCRIBE ► http...</td>\n",
       "      <td>USA</td>\n",
       "      <td>17</td>\n",
       "      <td>14</td>\n",
       "      <td>11</td>\n",
       "    </tr>\n",
       "    <tr>\n",
       "      <th>3</th>\n",
       "      <td>puqaWrEC7tY</td>\n",
       "      <td>17.14.11</td>\n",
       "      <td>Nickelback Lyrics: Real or Fake?</td>\n",
       "      <td>Good Mythical Morning</td>\n",
       "      <td>24</td>\n",
       "      <td>2017-11-13 11:00:04</td>\n",
       "      <td>rhett and link|\"gmm\"|\"good mythical morning\"|\"...</td>\n",
       "      <td>343168</td>\n",
       "      <td>10172</td>\n",
       "      <td>666</td>\n",
       "      <td>2146</td>\n",
       "      <td>https://i.ytimg.com/vi/puqaWrEC7tY/default.jpg</td>\n",
       "      <td>False</td>\n",
       "      <td>False</td>\n",
       "      <td>False</td>\n",
       "      <td>Today we find out if Link is a Nickelback amat...</td>\n",
       "      <td>USA</td>\n",
       "      <td>17</td>\n",
       "      <td>14</td>\n",
       "      <td>11</td>\n",
       "    </tr>\n",
       "    <tr>\n",
       "      <th>4</th>\n",
       "      <td>d380meD0W0M</td>\n",
       "      <td>17.14.11</td>\n",
       "      <td>I Dare You: GOING BALD!?</td>\n",
       "      <td>nigahiga</td>\n",
       "      <td>24</td>\n",
       "      <td>2017-11-12 18:01:41</td>\n",
       "      <td>ryan|\"higa\"|\"higatv\"|\"nigahiga\"|\"i dare you\"|\"...</td>\n",
       "      <td>2095731</td>\n",
       "      <td>132235</td>\n",
       "      <td>1989</td>\n",
       "      <td>17518</td>\n",
       "      <td>https://i.ytimg.com/vi/d380meD0W0M/default.jpg</td>\n",
       "      <td>False</td>\n",
       "      <td>False</td>\n",
       "      <td>False</td>\n",
       "      <td>I know it's been a while since we did this sho...</td>\n",
       "      <td>USA</td>\n",
       "      <td>17</td>\n",
       "      <td>14</td>\n",
       "      <td>11</td>\n",
       "    </tr>\n",
       "    <tr>\n",
       "      <th>...</th>\n",
       "      <td>...</td>\n",
       "      <td>...</td>\n",
       "      <td>...</td>\n",
       "      <td>...</td>\n",
       "      <td>...</td>\n",
       "      <td>...</td>\n",
       "      <td>...</td>\n",
       "      <td>...</td>\n",
       "      <td>...</td>\n",
       "      <td>...</td>\n",
       "      <td>...</td>\n",
       "      <td>...</td>\n",
       "      <td>...</td>\n",
       "      <td>...</td>\n",
       "      <td>...</td>\n",
       "      <td>...</td>\n",
       "      <td>...</td>\n",
       "      <td>...</td>\n",
       "      <td>...</td>\n",
       "      <td>...</td>\n",
       "    </tr>\n",
       "    <tr>\n",
       "      <th>40876</th>\n",
       "      <td>sGolxsMSGfQ</td>\n",
       "      <td>18.14.06</td>\n",
       "      <td>HOW2: How to Solve a Mystery</td>\n",
       "      <td>Annoying Orange</td>\n",
       "      <td>24</td>\n",
       "      <td>2018-06-13 18:00:07</td>\n",
       "      <td>annoying orange|\"funny\"|\"fruit\"|\"talking\"|\"ani...</td>\n",
       "      <td>80685</td>\n",
       "      <td>1701</td>\n",
       "      <td>99</td>\n",
       "      <td>1312</td>\n",
       "      <td>https://i.ytimg.com/vi/sGolxsMSGfQ/default.jpg</td>\n",
       "      <td>False</td>\n",
       "      <td>False</td>\n",
       "      <td>False</td>\n",
       "      <td>🚨 NEW MERCH! http://amzn.to/annoyingorange 🚨➤ ...</td>\n",
       "      <td>CAN</td>\n",
       "      <td>18</td>\n",
       "      <td>14</td>\n",
       "      <td>6</td>\n",
       "    </tr>\n",
       "    <tr>\n",
       "      <th>40877</th>\n",
       "      <td>8HNuRNi8t70</td>\n",
       "      <td>18.14.06</td>\n",
       "      <td>Eli Lik Lik Episode 13 Partie 01</td>\n",
       "      <td>Elhiwar Ettounsi</td>\n",
       "      <td>24</td>\n",
       "      <td>2018-06-13 19:01:18</td>\n",
       "      <td>hkayet tounsia|\"elhiwar ettounsi\"|\"denya okhra...</td>\n",
       "      <td>103339</td>\n",
       "      <td>460</td>\n",
       "      <td>66</td>\n",
       "      <td>51</td>\n",
       "      <td>https://i.ytimg.com/vi/8HNuRNi8t70/default.jpg</td>\n",
       "      <td>False</td>\n",
       "      <td>False</td>\n",
       "      <td>False</td>\n",
       "      <td>► Retrouvez vos programmes préférés : https://...</td>\n",
       "      <td>CAN</td>\n",
       "      <td>18</td>\n",
       "      <td>14</td>\n",
       "      <td>6</td>\n",
       "    </tr>\n",
       "    <tr>\n",
       "      <th>40878</th>\n",
       "      <td>GWlKEM3m2EE</td>\n",
       "      <td>18.14.06</td>\n",
       "      <td>KINGDOM HEARTS III – SQUARE ENIX E3 SHOWCASE 2...</td>\n",
       "      <td>Kingdom Hearts</td>\n",
       "      <td>20</td>\n",
       "      <td>2018-06-11 17:30:53</td>\n",
       "      <td>Kingdom Hearts|\"KH3\"|\"Kingdom Hearts 3\"|\"Froze...</td>\n",
       "      <td>773347</td>\n",
       "      <td>25900</td>\n",
       "      <td>224</td>\n",
       "      <td>3881</td>\n",
       "      <td>https://i.ytimg.com/vi/GWlKEM3m2EE/default.jpg</td>\n",
       "      <td>False</td>\n",
       "      <td>False</td>\n",
       "      <td>False</td>\n",
       "      <td>Find out more about Kingdom Hearts 3: https://...</td>\n",
       "      <td>CAN</td>\n",
       "      <td>18</td>\n",
       "      <td>14</td>\n",
       "      <td>6</td>\n",
       "    </tr>\n",
       "    <tr>\n",
       "      <th>40879</th>\n",
       "      <td>lbMKLzQ4cNQ</td>\n",
       "      <td>18.14.06</td>\n",
       "      <td>Trump Advisor Grovels To Trudeau</td>\n",
       "      <td>The Young Turks</td>\n",
       "      <td>25</td>\n",
       "      <td>2018-06-13 04:00:05</td>\n",
       "      <td>180612__TB02SorryExcuse|\"News\"|\"Politics\"|\"The...</td>\n",
       "      <td>115225</td>\n",
       "      <td>2115</td>\n",
       "      <td>182</td>\n",
       "      <td>1672</td>\n",
       "      <td>https://i.ytimg.com/vi/lbMKLzQ4cNQ/default.jpg</td>\n",
       "      <td>False</td>\n",
       "      <td>False</td>\n",
       "      <td>False</td>\n",
       "      <td>Peter Navarro isn’t talking so tough now. Ana ...</td>\n",
       "      <td>CAN</td>\n",
       "      <td>18</td>\n",
       "      <td>14</td>\n",
       "      <td>6</td>\n",
       "    </tr>\n",
       "    <tr>\n",
       "      <th>40880</th>\n",
       "      <td>POTgw38-m58</td>\n",
       "      <td>18.14.06</td>\n",
       "      <td>【完整版】遇到恐怖情人該怎麼辦？2018.06.13小明星大跟班</td>\n",
       "      <td>我愛小明星大跟班</td>\n",
       "      <td>24</td>\n",
       "      <td>2018-06-13 16:00:03</td>\n",
       "      <td>吳宗憲|\"吳姍儒\"|\"小明星大跟班\"|\"Sandy\"|\"Jacky wu\"|\"憲哥\"|\"中天...</td>\n",
       "      <td>107392</td>\n",
       "      <td>300</td>\n",
       "      <td>62</td>\n",
       "      <td>251</td>\n",
       "      <td>https://i.ytimg.com/vi/POTgw38-m58/default.jpg</td>\n",
       "      <td>False</td>\n",
       "      <td>False</td>\n",
       "      <td>False</td>\n",
       "      <td>藝人：李妍瑾、玉兔、班傑、LaLa、小優、少少專家：陳筱屏(律師)、Wendy(心理師)、羅...</td>\n",
       "      <td>CAN</td>\n",
       "      <td>18</td>\n",
       "      <td>14</td>\n",
       "      <td>6</td>\n",
       "    </tr>\n",
       "  </tbody>\n",
       "</table>\n",
       "<p>81830 rows × 20 columns</p>\n",
       "</div>"
      ],
      "text/plain": [
       "          video_id trending_date  \\\n",
       "0      2kyS6SvSYSE      17.14.11   \n",
       "1      1ZAPwfrtAFY      17.14.11   \n",
       "2      5qpjK5DgCt4      17.14.11   \n",
       "3      puqaWrEC7tY      17.14.11   \n",
       "4      d380meD0W0M      17.14.11   \n",
       "...            ...           ...   \n",
       "40876  sGolxsMSGfQ      18.14.06   \n",
       "40877  8HNuRNi8t70      18.14.06   \n",
       "40878  GWlKEM3m2EE      18.14.06   \n",
       "40879  lbMKLzQ4cNQ      18.14.06   \n",
       "40880  POTgw38-m58      18.14.06   \n",
       "\n",
       "                                                   title  \\\n",
       "0                     WE WANT TO TALK ABOUT OUR MARRIAGE   \n",
       "1      The Trump Presidency: Last Week Tonight with J...   \n",
       "2      Racist Superman | Rudy Mancuso, King Bach & Le...   \n",
       "3                       Nickelback Lyrics: Real or Fake?   \n",
       "4                               I Dare You: GOING BALD!?   \n",
       "...                                                  ...   \n",
       "40876                       HOW2: How to Solve a Mystery   \n",
       "40877                   Eli Lik Lik Episode 13 Partie 01   \n",
       "40878  KINGDOM HEARTS III – SQUARE ENIX E3 SHOWCASE 2...   \n",
       "40879                   Trump Advisor Grovels To Trudeau   \n",
       "40880                   【完整版】遇到恐怖情人該怎麼辦？2018.06.13小明星大跟班   \n",
       "\n",
       "               channel_title  category_id        publish_time  \\\n",
       "0               CaseyNeistat           22 2017-11-13 17:13:01   \n",
       "1            LastWeekTonight           24 2017-11-13 07:30:00   \n",
       "2               Rudy Mancuso           23 2017-11-12 19:05:24   \n",
       "3      Good Mythical Morning           24 2017-11-13 11:00:04   \n",
       "4                   nigahiga           24 2017-11-12 18:01:41   \n",
       "...                      ...          ...                 ...   \n",
       "40876        Annoying Orange           24 2018-06-13 18:00:07   \n",
       "40877       Elhiwar Ettounsi           24 2018-06-13 19:01:18   \n",
       "40878         Kingdom Hearts           20 2018-06-11 17:30:53   \n",
       "40879        The Young Turks           25 2018-06-13 04:00:05   \n",
       "40880               我愛小明星大跟班           24 2018-06-13 16:00:03   \n",
       "\n",
       "                                                    tags    views   likes  \\\n",
       "0                                        SHANtell martin   748374   57527   \n",
       "1      last week tonight trump presidency|\"last week ...  2418783   97185   \n",
       "2      racist superman|\"rudy\"|\"mancuso\"|\"king\"|\"bach\"...  3191434  146033   \n",
       "3      rhett and link|\"gmm\"|\"good mythical morning\"|\"...   343168   10172   \n",
       "4      ryan|\"higa\"|\"higatv\"|\"nigahiga\"|\"i dare you\"|\"...  2095731  132235   \n",
       "...                                                  ...      ...     ...   \n",
       "40876  annoying orange|\"funny\"|\"fruit\"|\"talking\"|\"ani...    80685    1701   \n",
       "40877  hkayet tounsia|\"elhiwar ettounsi\"|\"denya okhra...   103339     460   \n",
       "40878  Kingdom Hearts|\"KH3\"|\"Kingdom Hearts 3\"|\"Froze...   773347   25900   \n",
       "40879  180612__TB02SorryExcuse|\"News\"|\"Politics\"|\"The...   115225    2115   \n",
       "40880  吳宗憲|\"吳姍儒\"|\"小明星大跟班\"|\"Sandy\"|\"Jacky wu\"|\"憲哥\"|\"中天...   107392     300   \n",
       "\n",
       "       dislikes  comment_count  \\\n",
       "0          2966          15954   \n",
       "1          6146          12703   \n",
       "2          5339           8181   \n",
       "3           666           2146   \n",
       "4          1989          17518   \n",
       "...         ...            ...   \n",
       "40876        99           1312   \n",
       "40877        66             51   \n",
       "40878       224           3881   \n",
       "40879       182           1672   \n",
       "40880        62            251   \n",
       "\n",
       "                                       thumbnail_link  comments_disabled  \\\n",
       "0      https://i.ytimg.com/vi/2kyS6SvSYSE/default.jpg              False   \n",
       "1      https://i.ytimg.com/vi/1ZAPwfrtAFY/default.jpg              False   \n",
       "2      https://i.ytimg.com/vi/5qpjK5DgCt4/default.jpg              False   \n",
       "3      https://i.ytimg.com/vi/puqaWrEC7tY/default.jpg              False   \n",
       "4      https://i.ytimg.com/vi/d380meD0W0M/default.jpg              False   \n",
       "...                                               ...                ...   \n",
       "40876  https://i.ytimg.com/vi/sGolxsMSGfQ/default.jpg              False   \n",
       "40877  https://i.ytimg.com/vi/8HNuRNi8t70/default.jpg              False   \n",
       "40878  https://i.ytimg.com/vi/GWlKEM3m2EE/default.jpg              False   \n",
       "40879  https://i.ytimg.com/vi/lbMKLzQ4cNQ/default.jpg              False   \n",
       "40880  https://i.ytimg.com/vi/POTgw38-m58/default.jpg              False   \n",
       "\n",
       "       ratings_disabled  video_error_or_removed  \\\n",
       "0                 False                   False   \n",
       "1                 False                   False   \n",
       "2                 False                   False   \n",
       "3                 False                   False   \n",
       "4                 False                   False   \n",
       "...                 ...                     ...   \n",
       "40876             False                   False   \n",
       "40877             False                   False   \n",
       "40878             False                   False   \n",
       "40879             False                   False   \n",
       "40880             False                   False   \n",
       "\n",
       "                                             description country  \\\n",
       "0      SHANTELL'S CHANNEL - https://www.youtube.com/s...     USA   \n",
       "1      One year after the presidential election, John...     USA   \n",
       "2      WATCH MY PREVIOUS VIDEO ▶ \\n\\nSUBSCRIBE ► http...     USA   \n",
       "3      Today we find out if Link is a Nickelback amat...     USA   \n",
       "4      I know it's been a while since we did this sho...     USA   \n",
       "...                                                  ...     ...   \n",
       "40876  🚨 NEW MERCH! http://amzn.to/annoyingorange 🚨➤ ...     CAN   \n",
       "40877  ► Retrouvez vos programmes préférés : https://...     CAN   \n",
       "40878  Find out more about Kingdom Hearts 3: https://...     CAN   \n",
       "40879  Peter Navarro isn’t talking so tough now. Ana ...     CAN   \n",
       "40880  藝人：李妍瑾、玉兔、班傑、LaLa、小優、少少專家：陳筱屏(律師)、Wendy(心理師)、羅...     CAN   \n",
       "\n",
       "       trending_Year  trending_Day  trending_Month  \n",
       "0                 17            14              11  \n",
       "1                 17            14              11  \n",
       "2                 17            14              11  \n",
       "3                 17            14              11  \n",
       "4                 17            14              11  \n",
       "...              ...           ...             ...  \n",
       "40876             18            14               6  \n",
       "40877             18            14               6  \n",
       "40878             18            14               6  \n",
       "40879             18            14               6  \n",
       "40880             18            14               6  \n",
       "\n",
       "[81830 rows x 20 columns]"
      ]
     },
     "execution_count": 31,
     "metadata": {},
     "output_type": "execute_result"
    }
   ],
   "source": [
    "video"
   ]
  },
  {
   "cell_type": "code",
   "execution_count": 32,
   "id": "d03d633f",
   "metadata": {},
   "outputs": [],
   "source": [
    "video['publish_hour']=video['publish_time'].dt.hour"
   ]
  },
  {
   "cell_type": "code",
   "execution_count": 33,
   "id": "a83a256e",
   "metadata": {},
   "outputs": [],
   "source": [
    "video['publish_day']=video['publish_time'].dt.day"
   ]
  },
  {
   "cell_type": "code",
   "execution_count": 34,
   "id": "a67c626c",
   "metadata": {},
   "outputs": [],
   "source": [
    "video['publish_year']=video['publish_time'].dt.year"
   ]
  },
  {
   "cell_type": "code",
   "execution_count": 35,
   "id": "77d18ab1",
   "metadata": {},
   "outputs": [],
   "source": [
    "video['publish_Month']=video['publish_time'].dt.month"
   ]
  },
  {
   "cell_type": "code",
   "execution_count": 36,
   "id": "3b118fac",
   "metadata": {},
   "outputs": [],
   "source": [
    "video['score'] = ((video.comment_count / video.views)*(video.likes-(1.5 * video.dislikes)))"
   ]
  },
  {
   "cell_type": "code",
   "execution_count": 37,
   "id": "e05ff471",
   "metadata": {},
   "outputs": [
    {
     "name": "stdout",
     "output_type": "stream",
     "text": [
      "<class 'pandas.core.frame.DataFrame'>\n",
      "Int64Index: 81830 entries, 0 to 40880\n",
      "Data columns (total 25 columns):\n",
      " #   Column                  Non-Null Count  Dtype         \n",
      "---  ------                  --------------  -----         \n",
      " 0   video_id                81830 non-null  object        \n",
      " 1   trending_date           81830 non-null  object        \n",
      " 2   title                   81830 non-null  object        \n",
      " 3   channel_title           81830 non-null  object        \n",
      " 4   category_id             81830 non-null  int64         \n",
      " 5   publish_time            81830 non-null  datetime64[ns]\n",
      " 6   tags                    81830 non-null  object        \n",
      " 7   views                   81830 non-null  int64         \n",
      " 8   likes                   81830 non-null  int64         \n",
      " 9   dislikes                81830 non-null  int64         \n",
      " 10  comment_count           81830 non-null  int64         \n",
      " 11  thumbnail_link          81830 non-null  object        \n",
      " 12  comments_disabled       81830 non-null  bool          \n",
      " 13  ratings_disabled        81830 non-null  bool          \n",
      " 14  video_error_or_removed  81830 non-null  bool          \n",
      " 15  description             79964 non-null  object        \n",
      " 16  country                 81830 non-null  object        \n",
      " 17  trending_Year           81830 non-null  int32         \n",
      " 18  trending_Day            81830 non-null  int32         \n",
      " 19  trending_Month          81830 non-null  int32         \n",
      " 20  publish_hour            81830 non-null  int64         \n",
      " 21  publish_day             81830 non-null  int64         \n",
      " 22  publish_year            81830 non-null  int64         \n",
      " 23  publish_Month           81830 non-null  int64         \n",
      " 24  score                   81830 non-null  float64       \n",
      "dtypes: bool(3), datetime64[ns](1), float64(1), int32(3), int64(9), object(8)\n",
      "memory usage: 13.7+ MB\n"
     ]
    }
   ],
   "source": [
    "video.info()"
   ]
  },
  {
   "cell_type": "code",
   "execution_count": 38,
   "id": "5775f766",
   "metadata": {},
   "outputs": [],
   "source": [
    "conditions = [\n",
    "    (video['views'] >= 100000) & (video['score'] >= 300),#y3\n",
    "    (video['views'] >= 100000) & (video['score'].between(0,300)),#y2\n",
    "    (video['views'] >= 100000) & (video['score'] < 0), #y1\n",
    "    ((video['views'] < 100000))#y0\n",
    "   ]\n",
    "values = ['Trending','not Trend','not Trend','not Trend']     \n",
    "video['video_type'] = np.select(conditions,values)"
   ]
  },
  {
   "cell_type": "code",
   "execution_count": 39,
   "id": "e43c8f9e",
   "metadata": {
    "scrolled": true
   },
   "outputs": [],
   "source": [
    "conditions1 = [\n",
    "    (video['video_type'] == \"Trending\"),\n",
    "    (video['video_type'] == \"not Trend\")\n",
    "    \n",
    "   ]\n",
    "values1 = ['1','0']  \n",
    "video['video_type_no'] = np.select(conditions1,values1)"
   ]
  },
  {
   "cell_type": "code",
   "execution_count": 40,
   "id": "64f72215",
   "metadata": {},
   "outputs": [
    {
     "data": {
      "text/plain": [
       "0    68131\n",
       "1    13699\n",
       "Name: video_type_no, dtype: int64"
      ]
     },
     "execution_count": 40,
     "metadata": {},
     "output_type": "execute_result"
    }
   ],
   "source": [
    "video['video_type_no'].value_counts()"
   ]
  },
  {
   "cell_type": "markdown",
   "id": "f7a3c4b0",
   "metadata": {},
   "source": [
    "# Data Analysis and Visualization"
   ]
  },
  {
   "cell_type": "code",
   "execution_count": 41,
   "id": "4d7cd3b3",
   "metadata": {},
   "outputs": [
    {
     "data": {
      "text/plain": [
       "<AxesSubplot:>"
      ]
     },
     "execution_count": 41,
     "metadata": {},
     "output_type": "execute_result"
    },
    {
     "data": {
      "image/png": "[encoded data removed]",
      "text/plain": [
       "<Figure size 864x864 with 2 Axes>"
      ]
     },
     "metadata": {
      "needs_background": "light"
     },
     "output_type": "display_data"
    }
   ],
   "source": [
    "plt.figure(figsize=(12,12))\n",
    "sns.heatmap(video.corr(),square=True,annot=True,cmap='ocean')"
   ]
  },
  {
   "cell_type": "markdown",
   "id": "a2469777",
   "metadata": {},
   "source": [
    " What is the most watched channel?"
   ]
  },
  {
   "cell_type": "code",
   "execution_count": 42,
   "id": "74502d10",
   "metadata": {},
   "outputs": [
    {
     "data": {
      "text/plain": [
       "CNN                                       362\n",
       "The Late Show with Stephen Colbert        359\n",
       "ESPN                                      344\n",
       "TheEllenShow                              343\n",
       "FBE                                       337\n",
       "The Tonight Show Starring Jimmy Fallon    334\n",
       "Late Night with Seth Meyers               331\n",
       "Jimmy Kimmel Live                         330\n",
       "BuzzFeedVideo                             329\n",
       "Vox                                       326\n",
       "Name: channel_title, dtype: int64"
      ]
     },
     "execution_count": 42,
     "metadata": {},
     "output_type": "execute_result"
    }
   ],
   "source": [
    "top_10_channel = video[\"channel_title\"].value_counts() \n",
    "top_10_channel.head(10)"
   ]
  },
  {
   "cell_type": "code",
   "execution_count": 43,
   "id": "69ff6f7e",
   "metadata": {},
   "outputs": [
    {
     "data": {
      "image/png": "[encoded data removed]",
      "text/plain": [
       "<Figure size 576x576 with 1 Axes>"
      ]
     },
     "metadata": {
      "needs_background": "light"
     },
     "output_type": "display_data"
    }
   ],
   "source": [
    "cdf = video.groupby(\"channel_title\").size().reset_index(name=\"video_count\") \\\n",
    "    .sort_values(\"video_count\", ascending=False).head(20)\n",
    "\n",
    "fig, ax = plt.subplots(figsize=(8,8))\n",
    "ch_ = sns.barplot(x=\"video_count\", y=\"channel_title\", data=cdf,palette=('ocean_r'), ax=ax)\n",
    "ch_ = ax.set(xlabel=\"No. of videos\", ylabel=\"Channel\")"
   ]
  },
  {
   "cell_type": "code",
   "execution_count": 44,
   "id": "4bb783bc",
   "metadata": {},
   "outputs": [],
   "source": [
    "rep_channel = video.groupby('channel_title')[['views']].sum().reset_index()\n",
    "rep_channel.sort_values(by='views',inplace=True,ascending=False)"
   ]
  },
  {
   "cell_type": "code",
   "execution_count": 45,
   "id": "d0215e2a",
   "metadata": {},
   "outputs": [
    {
     "data": {
      "text/plain": [
       "<Figure size 432x288 with 0 Axes>"
      ]
     },
     "metadata": {},
     "output_type": "display_data"
    },
    {
     "data": {
      "image/png": "[encoded data removed]",
      "text/plain": [
       "<Figure size 1080x360 with 1 Axes>"
      ]
     },
     "metadata": {
      "needs_background": "light"
     },
     "output_type": "display_data"
    }
   ],
   "source": [
    "plt.clf()\n",
    "channel_views = rep_channel.head(20)\n",
    "sns.catplot(x='channel_title',y='views',data=channel_views,kind='bar', palette=('ocean_r'),aspect=3)\n",
    "plt.xticks(rotation=90)\n",
    "plt.xlabel('Channel title')\n",
    "plt.ylabel('Number of views (in billions)')\n",
    "plt.title('Viewed Channels')\n",
    "plt.show()"
   ]
  },
  {
   "cell_type": "code",
   "execution_count": 46,
   "id": "efba279e",
   "metadata": {},
   "outputs": [
    {
     "data": {
      "text/html": [
       "<div>\n",
       "<style scoped>\n",
       "    .dataframe tbody tr th:only-of-type {\n",
       "        vertical-align: middle;\n",
       "    }\n",
       "\n",
       "    .dataframe tbody tr th {\n",
       "        vertical-align: top;\n",
       "    }\n",
       "\n",
       "    .dataframe thead th {\n",
       "        text-align: right;\n",
       "    }\n",
       "</style>\n",
       "<table border=\"1\" class=\"dataframe\">\n",
       "  <thead>\n",
       "    <tr style=\"text-align: right;\">\n",
       "      <th></th>\n",
       "      <th>likes</th>\n",
       "      <th>dislikes</th>\n",
       "      <th>views</th>\n",
       "    </tr>\n",
       "    <tr>\n",
       "      <th>channel_title</th>\n",
       "      <th></th>\n",
       "      <th></th>\n",
       "      <th></th>\n",
       "    </tr>\n",
       "  </thead>\n",
       "  <tbody>\n",
       "    <tr>\n",
       "      <th>YouTube Spotlight</th>\n",
       "      <td>37052919</td>\n",
       "      <td>19822612</td>\n",
       "      <td>1427365245</td>\n",
       "    </tr>\n",
       "    <tr>\n",
       "      <th>Logan Paul Vlogs</th>\n",
       "      <td>51137633</td>\n",
       "      <td>16301147</td>\n",
       "      <td>726829659</td>\n",
       "    </tr>\n",
       "    <tr>\n",
       "      <th>ChildishGambinoVEVO</th>\n",
       "      <td>111294734</td>\n",
       "      <td>6744382</td>\n",
       "      <td>4170263834</td>\n",
       "    </tr>\n",
       "    <tr>\n",
       "      <th>Call of Duty</th>\n",
       "      <td>13265756</td>\n",
       "      <td>6131935</td>\n",
       "      <td>356061575</td>\n",
       "    </tr>\n",
       "    <tr>\n",
       "      <th>Jake Paul</th>\n",
       "      <td>11971490</td>\n",
       "      <td>5868724</td>\n",
       "      <td>285300076</td>\n",
       "    </tr>\n",
       "    <tr>\n",
       "      <th>ibighit</th>\n",
       "      <td>249506995</td>\n",
       "      <td>4380237</td>\n",
       "      <td>2747474597</td>\n",
       "    </tr>\n",
       "    <tr>\n",
       "      <th>TaylorSwiftVEVO</th>\n",
       "      <td>57563971</td>\n",
       "      <td>3090327</td>\n",
       "      <td>1385634287</td>\n",
       "    </tr>\n",
       "    <tr>\n",
       "      <th>jypentertainment</th>\n",
       "      <td>51522885</td>\n",
       "      <td>2871396</td>\n",
       "      <td>1641707189</td>\n",
       "    </tr>\n",
       "    <tr>\n",
       "      <th>ArianaGrandeVevo</th>\n",
       "      <td>61867438</td>\n",
       "      <td>2250200</td>\n",
       "      <td>1737774086</td>\n",
       "    </tr>\n",
       "    <tr>\n",
       "      <th>MalumaVEVO</th>\n",
       "      <td>28802130</td>\n",
       "      <td>2136890</td>\n",
       "      <td>1774850961</td>\n",
       "    </tr>\n",
       "  </tbody>\n",
       "</table>\n",
       "</div>"
      ],
      "text/plain": [
       "                         likes  dislikes       views\n",
       "channel_title                                       \n",
       "YouTube Spotlight     37052919  19822612  1427365245\n",
       "Logan Paul Vlogs      51137633  16301147   726829659\n",
       "ChildishGambinoVEVO  111294734   6744382  4170263834\n",
       "Call of Duty          13265756   6131935   356061575\n",
       "Jake Paul             11971490   5868724   285300076\n",
       "ibighit              249506995   4380237  2747474597\n",
       "TaylorSwiftVEVO       57563971   3090327  1385634287\n",
       "jypentertainment      51522885   2871396  1641707189\n",
       "ArianaGrandeVevo      61867438   2250200  1737774086\n",
       "MalumaVEVO            28802130   2136890  1774850961"
      ]
     },
     "execution_count": 46,
     "metadata": {},
     "output_type": "execute_result"
    }
   ],
   "source": [
    "channel_df = video.groupby(video['channel_title']).agg({'likes': ['sum'],\n",
    "                                                           'dislikes': ['sum'],\n",
    "                                                           'views': ['sum']})\n",
    "channel_df.columns = ['likes', 'dislikes', 'views']\n",
    "\n",
    "channel_df.sort_values(by=[\"dislikes\"], ascending=False).head(10)"
   ]
  },
  {
   "cell_type": "code",
   "execution_count": 47,
   "id": "0d6a5fb9",
   "metadata": {},
   "outputs": [
    {
     "data": {
      "image/png": "[encoded data removed]",
      "text/plain": [
       "<Figure size 432x288 with 2 Axes>"
      ]
     },
     "metadata": {
      "needs_background": "light"
     },
     "output_type": "display_data"
    }
   ],
   "source": [
    "numerical_cols = ['views','likes','dislikes','comment_count']\n",
    "sns.heatmap(video[numerical_cols].corr(),square=True,annot=True,cmap='ocean');"
   ]
  },
  {
   "cell_type": "code",
   "execution_count": 48,
   "id": "5ed72d7b",
   "metadata": {},
   "outputs": [
    {
     "data": {
      "text/plain": [
       "18    62638\n",
       "17    19192\n",
       "Name: trending_Year, dtype: int64"
      ]
     },
     "execution_count": 48,
     "metadata": {},
     "output_type": "execute_result"
    }
   ],
   "source": [
    "video.trending_Year.value_counts()"
   ]
  },
  {
   "cell_type": "code",
   "execution_count": 49,
   "id": "45575d34",
   "metadata": {},
   "outputs": [
    {
     "data": {
      "image/png": "[encoded data removed]",
      "text/plain": [
       "<Figure size 432x288 with 1 Axes>"
      ]
     },
     "metadata": {
      "needs_background": "light"
     },
     "output_type": "display_data"
    }
   ],
   "source": [
    "most_year_views= video[\"trending_date\"].apply(lambda x: '20' + x[:2]).value_counts() \\\n",
    "            .to_frame().reset_index() \\\n",
    "            .rename(columns={\"index\": \"year\", \"trending_date\": \"No_of_videos\"})\n",
    "\n",
    "fig, ax = plt.subplots()\n",
    "td_ = sns.barplot(x=\"year\", y=\"No_of_videos\", data=most_year_views, \n",
    "                palette=('ocean_r'), ax=ax)\n",
    "td_ = ax.set(xlabel=\"Year\", ylabel=\"No. of videos\")"
   ]
  },
  {
   "cell_type": "code",
   "execution_count": 50,
   "id": "9a7aa1b4",
   "metadata": {},
   "outputs": [
    {
     "name": "stderr",
     "output_type": "stream",
     "text": [
      "C:\\Users\\96650\\anaconda3\\lib\\site-packages\\seaborn\\distributions.py:2557: FutureWarning: `distplot` is a deprecated function and will be removed in a future version. Please adapt your code to use either `displot` (a figure-level function with similar flexibility) or `histplot` (an axes-level function for histograms).\n",
      "  warnings.warn(msg, FutureWarning)\n"
     ]
    },
    {
     "data": {
      "image/png": "[encoded data removed]",
      "text/plain": [
       "<Figure size 432x288 with 1 Axes>"
      ]
     },
     "metadata": {
      "needs_background": "light"
     },
     "output_type": "display_data"
    }
   ],
   "source": [
    "PLOT_COLORS = [\"#268bd2\", \"#0052CC\", \"#FF5722\", \"#b58900\", \"#003f5c\"]\n",
    "fig, ax = plt.subplots()\n",
    "_ = sns.distplot(video[video[\"likes\"] <= 1e5][\"likes\"], kde=True, \n",
    "                 color=PLOT_COLORS[4], hist_kws={'alpha': 1}, ax=ax)\n",
    "_ = ax.set(xlabel=\"Likes\", ylabel=\"No. of videos\")"
   ]
  },
  {
   "cell_type": "code",
   "execution_count": 51,
   "id": "524589f9",
   "metadata": {},
   "outputs": [
    {
     "data": {
      "image/png": "[encoded data removed]",
      "text/plain": [
       "<Figure size 432x288 with 1 Axes>"
      ]
     },
     "metadata": {
      "needs_background": "light"
     },
     "output_type": "display_data"
    }
   ],
   "source": [
    "fig, ax = plt.subplots()\n",
    "show_views = plt.scatter(x=video['views'], y=video['likes'], linewidths=0.5)\n",
    "show_views = ax.set(xlabel=\"Views\", ylabel=\"Likes\")"
   ]
  },
  {
   "cell_type": "markdown",
   "id": "5f48d3cf",
   "metadata": {},
   "source": [
    "Video error or removal ratio?"
   ]
  },
  {
   "cell_type": "code",
   "execution_count": 52,
   "id": "207bb8f7",
   "metadata": {},
   "outputs": [
    {
     "data": {
      "text/plain": [
       "False    81780\n",
       "True        50\n",
       "Name: video_error_or_removed, dtype: int64"
      ]
     },
     "execution_count": 52,
     "metadata": {},
     "output_type": "execute_result"
    }
   ],
   "source": [
    "video[\"video_error_or_removed\"].value_counts()"
   ]
  },
  {
   "cell_type": "code",
   "execution_count": 53,
   "id": "5a480a91",
   "metadata": {},
   "outputs": [
    {
     "data": {
      "image/png": "[encoded data removed]",
      "text/plain": [
       "<Figure size 432x288 with 1 Axes>"
      ]
     },
     "metadata": {},
     "output_type": "display_data"
    }
   ],
   "source": [
    "value_counts = video[\"video_error_or_removed\"].value_counts().to_dict()\n",
    "fig, ax = plt.subplots()\n",
    "counts= ax.pie([value_counts[False], value_counts[True]], labels=['No', 'Yes'], \n",
    "        colors=['#003f5c', '#ffa600'], textprops={'color': '#040204'})\n",
    "counts = ax.axis('equal')\n",
    "counts = ax.set_title('Video Error or Removed?')"
   ]
  },
  {
   "cell_type": "markdown",
   "id": "25209cd3",
   "metadata": {},
   "source": [
    " Are comments disabled?"
   ]
  },
  {
   "cell_type": "code",
   "execution_count": 54,
   "id": "cad3033e",
   "metadata": {},
   "outputs": [
    {
     "data": {
      "text/plain": [
       "False    0.98514\n",
       "True     0.01486\n",
       "Name: comments_disabled, dtype: float64"
      ]
     },
     "execution_count": 54,
     "metadata": {},
     "output_type": "execute_result"
    }
   ],
   "source": [
    "video[\"comments_disabled\"].value_counts(normalize=True)"
   ]
  },
  {
   "cell_type": "code",
   "execution_count": 55,
   "id": "e0bd22d9",
   "metadata": {},
   "outputs": [
    {
     "data": {
      "image/png": "[encoded data removed]",
      "text/plain": [
       "<Figure size 432x288 with 1 Axes>"
      ]
     },
     "metadata": {},
     "output_type": "display_data"
    }
   ],
   "source": [
    "value_counts = video[\"comments_disabled\"].value_counts().to_dict()\n",
    "fig, ax = plt.subplots()\n",
    "counts_= ax.pie(x=[value_counts[False], value_counts[True]], labels=['No', 'Yes'], \n",
    "           colors=['#003f5c', '#ffa600'], textprops={'color': '#040204'})\n",
    "counts_= ax.axis('equal')\n",
    "counts_= ax.set_title('Comments Disabled?')"
   ]
  },
  {
   "cell_type": "markdown",
   "id": "f13f10e1",
   "metadata": {},
   "source": [
    "Which country gets the most popular video trend and not trend ?"
   ]
  },
  {
   "cell_type": "code",
   "execution_count": 56,
   "id": "2821e639",
   "metadata": {},
   "outputs": [
    {
     "data": {
      "text/plain": [
       "not Trend    68131\n",
       "Trending     13699\n",
       "Name: video_type, dtype: int64"
      ]
     },
     "execution_count": 56,
     "metadata": {},
     "output_type": "execute_result"
    }
   ],
   "source": [
    "video['video_type'].value_counts()"
   ]
  },
  {
   "cell_type": "code",
   "execution_count": 57,
   "id": "3dffacf8",
   "metadata": {},
   "outputs": [
    {
     "data": {
      "image/png": "[encoded data removed]",
      "text/plain": [
       "<Figure size 864x432 with 1 Axes>"
      ]
     },
     "metadata": {
      "needs_background": "light"
     },
     "output_type": "display_data"
    }
   ],
   "source": [
    "video.groupby(['country', 'video_type'])['views'].sum()\n",
    "sns.countplot(data = video, x='country', hue='video_type', palette=('ocean'))\n",
    "plt.gcf().set_size_inches(12,6)"
   ]
  },
  {
   "cell_type": "code",
   "execution_count": 58,
   "id": "496ba5d3",
   "metadata": {},
   "outputs": [
    {
     "name": "stderr",
     "output_type": "stream",
     "text": [
      "C:\\Users\\96650\\anaconda3\\lib\\site-packages\\seaborn\\distributions.py:2557: FutureWarning: `distplot` is a deprecated function and will be removed in a future version. Please adapt your code to use either `displot` (a figure-level function with similar flexibility) or `histplot` (an axes-level function for histograms).\n",
      "  warnings.warn(msg, FutureWarning)\n"
     ]
    },
    {
     "data": {
      "image/png": "[encoded data removed]",
      "text/plain": [
       "<Figure size 432x288 with 1 Axes>"
      ]
     },
     "metadata": {
      "needs_background": "light"
     },
     "output_type": "display_data"
    }
   ],
   "source": [
    "video[\"title_length\"] = video[\"title\"].apply(lambda x: len(x))\n",
    "\n",
    "fig, ax = plt.subplots()\n",
    "title_len = sns.distplot(video[\"title_length\"], kde=False, rug=False, hist_kws={'alpha': 1}, ax=ax)\n",
    "title_len = ax.set(xlabel=\"Title Length\", ylabel=\"No. of videos\", xticks=range(0, 110, 10))"
   ]
  },
  {
   "cell_type": "code",
   "execution_count": 59,
   "id": "c363b543",
   "metadata": {},
   "outputs": [
    {
     "data": {
      "image/png": "[encoded data removed]",
      "text/plain": [
       "<Figure size 432x288 with 1 Axes>"
      ]
     },
     "metadata": {
      "needs_background": "light"
     },
     "output_type": "display_data"
    }
   ],
   "source": [
    "fig, ax = plt.subplots()\n",
    "number_views= ax.scatter(x=video['views'], y=video['title_length'], edgecolors=\"#000000\", linewidths=0.5)\n",
    "number_views = ax.set(xlabel=\"Views\", ylabel=\"Title Length\")"
   ]
  },
  {
   "cell_type": "code",
   "execution_count": 60,
   "id": "d2737a37",
   "metadata": {},
   "outputs": [
    {
     "data": {
      "text/plain": [
       "[('-', 24118),\n",
       " ('|', 23259),\n",
       " ('The', 10929),\n",
       " ('the', 6108),\n",
       " ('2018', 5378),\n",
       " ('&', 4310),\n",
       " ('to', 4246),\n",
       " ('of', 4112),\n",
       " ('in', 3973),\n",
       " ('a', 3845),\n",
       " ('A', 3644),\n",
       " ('and', 3616),\n",
       " ('on', 2935),\n",
       " ('I', 2878),\n",
       " ('with', 2855),\n",
       " ('Video)', 2827),\n",
       " ('Trailer', 2738),\n",
       " ('To', 2713),\n",
       " ('Official', 2484),\n",
       " ('Episode', 2422),\n",
       " ('(Official', 2371),\n",
       " ('How', 2283),\n",
       " ('You', 2143),\n",
       " ('2017', 1885),\n",
       " ('In', 1873)]"
      ]
     },
     "execution_count": 60,
     "metadata": {},
     "output_type": "execute_result"
    }
   ],
   "source": [
    "title_words = list(video[\"title\"].apply(lambda x: x.split()))\n",
    "title_words = [x for y in title_words for x in y]\n",
    "Counter(title_words).most_common(25)"
   ]
  },
  {
   "cell_type": "code",
   "execution_count": 61,
   "id": "62fc0466",
   "metadata": {},
   "outputs": [
    {
     "data": {
      "image/png": "[encoded data removed]",
      "text/plain": [
       "<Figure size 1080x720 with 1 Axes>"
      ]
     },
     "metadata": {
      "needs_background": "light"
     },
     "output_type": "display_data"
    }
   ],
   "source": [
    "wc = WordCloud(width=1200, height=500, \n",
    "                         collocations=False, background_color=\"white\", \n",
    "                         colormap=\"tab20b\").generate(\" \".join(title_words))\n",
    "plt.figure(figsize=(15,10))\n",
    "plt.imshow(wc, interpolation='bilinear')\n",
    "_ = plt.axis(\"off\")"
   ]
  },
  {
   "cell_type": "code",
   "execution_count": 62,
   "id": "d75859cd",
   "metadata": {},
   "outputs": [
    {
     "data": {
      "text/html": [
       "<div>\n",
       "<style scoped>\n",
       "    .dataframe tbody tr th:only-of-type {\n",
       "        vertical-align: middle;\n",
       "    }\n",
       "\n",
       "    .dataframe tbody tr th {\n",
       "        vertical-align: top;\n",
       "    }\n",
       "\n",
       "    .dataframe thead th {\n",
       "        text-align: right;\n",
       "    }\n",
       "</style>\n",
       "<table border=\"1\" class=\"dataframe\">\n",
       "  <thead>\n",
       "    <tr style=\"text-align: right;\">\n",
       "      <th></th>\n",
       "      <th>video_id</th>\n",
       "      <th>trending_date</th>\n",
       "      <th>title</th>\n",
       "      <th>channel_title</th>\n",
       "      <th>category_id</th>\n",
       "      <th>publish_time</th>\n",
       "      <th>tags</th>\n",
       "      <th>views</th>\n",
       "      <th>likes</th>\n",
       "      <th>dislikes</th>\n",
       "      <th>...</th>\n",
       "      <th>trending_Day</th>\n",
       "      <th>trending_Month</th>\n",
       "      <th>publish_hour</th>\n",
       "      <th>publish_day</th>\n",
       "      <th>publish_year</th>\n",
       "      <th>publish_Month</th>\n",
       "      <th>score</th>\n",
       "      <th>video_type</th>\n",
       "      <th>video_type_no</th>\n",
       "      <th>title_length</th>\n",
       "    </tr>\n",
       "  </thead>\n",
       "  <tbody>\n",
       "    <tr>\n",
       "      <th>0</th>\n",
       "      <td>2kyS6SvSYSE</td>\n",
       "      <td>17.14.11</td>\n",
       "      <td>WE WANT TO TALK ABOUT OUR MARRIAGE</td>\n",
       "      <td>CaseyNeistat</td>\n",
       "      <td>22</td>\n",
       "      <td>2017-11-13 17:13:01</td>\n",
       "      <td>SHANtell martin</td>\n",
       "      <td>748374</td>\n",
       "      <td>57527</td>\n",
       "      <td>2966</td>\n",
       "      <td>...</td>\n",
       "      <td>14</td>\n",
       "      <td>11</td>\n",
       "      <td>17</td>\n",
       "      <td>13</td>\n",
       "      <td>2017</td>\n",
       "      <td>11</td>\n",
       "      <td>1131.528370</td>\n",
       "      <td>Trending</td>\n",
       "      <td>1</td>\n",
       "      <td>34</td>\n",
       "    </tr>\n",
       "    <tr>\n",
       "      <th>1</th>\n",
       "      <td>1ZAPwfrtAFY</td>\n",
       "      <td>17.14.11</td>\n",
       "      <td>The Trump Presidency: Last Week Tonight with J...</td>\n",
       "      <td>LastWeekTonight</td>\n",
       "      <td>24</td>\n",
       "      <td>2017-11-13 07:30:00</td>\n",
       "      <td>last week tonight trump presidency|\"last week ...</td>\n",
       "      <td>2418783</td>\n",
       "      <td>97185</td>\n",
       "      <td>6146</td>\n",
       "      <td>...</td>\n",
       "      <td>14</td>\n",
       "      <td>11</td>\n",
       "      <td>7</td>\n",
       "      <td>13</td>\n",
       "      <td>2017</td>\n",
       "      <td>11</td>\n",
       "      <td>461.981128</td>\n",
       "      <td>Trending</td>\n",
       "      <td>1</td>\n",
       "      <td>62</td>\n",
       "    </tr>\n",
       "    <tr>\n",
       "      <th>2</th>\n",
       "      <td>5qpjK5DgCt4</td>\n",
       "      <td>17.14.11</td>\n",
       "      <td>Racist Superman | Rudy Mancuso, King Bach &amp; Le...</td>\n",
       "      <td>Rudy Mancuso</td>\n",
       "      <td>23</td>\n",
       "      <td>2017-11-12 19:05:24</td>\n",
       "      <td>racist superman|\"rudy\"|\"mancuso\"|\"king\"|\"bach\"...</td>\n",
       "      <td>3191434</td>\n",
       "      <td>146033</td>\n",
       "      <td>5339</td>\n",
       "      <td>...</td>\n",
       "      <td>14</td>\n",
       "      <td>11</td>\n",
       "      <td>19</td>\n",
       "      <td>12</td>\n",
       "      <td>2017</td>\n",
       "      <td>11</td>\n",
       "      <td>353.815380</td>\n",
       "      <td>Trending</td>\n",
       "      <td>1</td>\n",
       "      <td>53</td>\n",
       "    </tr>\n",
       "    <tr>\n",
       "      <th>3</th>\n",
       "      <td>puqaWrEC7tY</td>\n",
       "      <td>17.14.11</td>\n",
       "      <td>Nickelback Lyrics: Real or Fake?</td>\n",
       "      <td>Good Mythical Morning</td>\n",
       "      <td>24</td>\n",
       "      <td>2017-11-13 11:00:04</td>\n",
       "      <td>rhett and link|\"gmm\"|\"good mythical morning\"|\"...</td>\n",
       "      <td>343168</td>\n",
       "      <td>10172</td>\n",
       "      <td>666</td>\n",
       "      <td>...</td>\n",
       "      <td>14</td>\n",
       "      <td>11</td>\n",
       "      <td>11</td>\n",
       "      <td>13</td>\n",
       "      <td>2017</td>\n",
       "      <td>11</td>\n",
       "      <td>57.363326</td>\n",
       "      <td>not Trend</td>\n",
       "      <td>0</td>\n",
       "      <td>32</td>\n",
       "    </tr>\n",
       "    <tr>\n",
       "      <th>4</th>\n",
       "      <td>d380meD0W0M</td>\n",
       "      <td>17.14.11</td>\n",
       "      <td>I Dare You: GOING BALD!?</td>\n",
       "      <td>nigahiga</td>\n",
       "      <td>24</td>\n",
       "      <td>2017-11-12 18:01:41</td>\n",
       "      <td>ryan|\"higa\"|\"higatv\"|\"nigahiga\"|\"i dare you\"|\"...</td>\n",
       "      <td>2095731</td>\n",
       "      <td>132235</td>\n",
       "      <td>1989</td>\n",
       "      <td>...</td>\n",
       "      <td>14</td>\n",
       "      <td>11</td>\n",
       "      <td>18</td>\n",
       "      <td>12</td>\n",
       "      <td>2017</td>\n",
       "      <td>11</td>\n",
       "      <td>1080.400002</td>\n",
       "      <td>Trending</td>\n",
       "      <td>1</td>\n",
       "      <td>24</td>\n",
       "    </tr>\n",
       "    <tr>\n",
       "      <th>...</th>\n",
       "      <td>...</td>\n",
       "      <td>...</td>\n",
       "      <td>...</td>\n",
       "      <td>...</td>\n",
       "      <td>...</td>\n",
       "      <td>...</td>\n",
       "      <td>...</td>\n",
       "      <td>...</td>\n",
       "      <td>...</td>\n",
       "      <td>...</td>\n",
       "      <td>...</td>\n",
       "      <td>...</td>\n",
       "      <td>...</td>\n",
       "      <td>...</td>\n",
       "      <td>...</td>\n",
       "      <td>...</td>\n",
       "      <td>...</td>\n",
       "      <td>...</td>\n",
       "      <td>...</td>\n",
       "      <td>...</td>\n",
       "      <td>...</td>\n",
       "    </tr>\n",
       "    <tr>\n",
       "      <th>40876</th>\n",
       "      <td>sGolxsMSGfQ</td>\n",
       "      <td>18.14.06</td>\n",
       "      <td>HOW2: How to Solve a Mystery</td>\n",
       "      <td>Annoying Orange</td>\n",
       "      <td>24</td>\n",
       "      <td>2018-06-13 18:00:07</td>\n",
       "      <td>annoying orange|\"funny\"|\"fruit\"|\"talking\"|\"ani...</td>\n",
       "      <td>80685</td>\n",
       "      <td>1701</td>\n",
       "      <td>99</td>\n",
       "      <td>...</td>\n",
       "      <td>14</td>\n",
       "      <td>6</td>\n",
       "      <td>18</td>\n",
       "      <td>13</td>\n",
       "      <td>2018</td>\n",
       "      <td>6</td>\n",
       "      <td>25.244841</td>\n",
       "      <td>not Trend</td>\n",
       "      <td>0</td>\n",
       "      <td>28</td>\n",
       "    </tr>\n",
       "    <tr>\n",
       "      <th>40877</th>\n",
       "      <td>8HNuRNi8t70</td>\n",
       "      <td>18.14.06</td>\n",
       "      <td>Eli Lik Lik Episode 13 Partie 01</td>\n",
       "      <td>Elhiwar Ettounsi</td>\n",
       "      <td>24</td>\n",
       "      <td>2018-06-13 19:01:18</td>\n",
       "      <td>hkayet tounsia|\"elhiwar ettounsi\"|\"denya okhra...</td>\n",
       "      <td>103339</td>\n",
       "      <td>460</td>\n",
       "      <td>66</td>\n",
       "      <td>...</td>\n",
       "      <td>14</td>\n",
       "      <td>6</td>\n",
       "      <td>19</td>\n",
       "      <td>13</td>\n",
       "      <td>2018</td>\n",
       "      <td>6</td>\n",
       "      <td>0.178161</td>\n",
       "      <td>not Trend</td>\n",
       "      <td>0</td>\n",
       "      <td>32</td>\n",
       "    </tr>\n",
       "    <tr>\n",
       "      <th>40878</th>\n",
       "      <td>GWlKEM3m2EE</td>\n",
       "      <td>18.14.06</td>\n",
       "      <td>KINGDOM HEARTS III – SQUARE ENIX E3 SHOWCASE 2...</td>\n",
       "      <td>Kingdom Hearts</td>\n",
       "      <td>20</td>\n",
       "      <td>2018-06-11 17:30:53</td>\n",
       "      <td>Kingdom Hearts|\"KH3\"|\"Kingdom Hearts 3\"|\"Froze...</td>\n",
       "      <td>773347</td>\n",
       "      <td>25900</td>\n",
       "      <td>224</td>\n",
       "      <td>...</td>\n",
       "      <td>14</td>\n",
       "      <td>6</td>\n",
       "      <td>17</td>\n",
       "      <td>11</td>\n",
       "      <td>2018</td>\n",
       "      <td>6</td>\n",
       "      <td>128.291548</td>\n",
       "      <td>not Trend</td>\n",
       "      <td>0</td>\n",
       "      <td>57</td>\n",
       "    </tr>\n",
       "    <tr>\n",
       "      <th>40879</th>\n",
       "      <td>lbMKLzQ4cNQ</td>\n",
       "      <td>18.14.06</td>\n",
       "      <td>Trump Advisor Grovels To Trudeau</td>\n",
       "      <td>The Young Turks</td>\n",
       "      <td>25</td>\n",
       "      <td>2018-06-13 04:00:05</td>\n",
       "      <td>180612__TB02SorryExcuse|\"News\"|\"Politics\"|\"The...</td>\n",
       "      <td>115225</td>\n",
       "      <td>2115</td>\n",
       "      <td>182</td>\n",
       "      <td>...</td>\n",
       "      <td>14</td>\n",
       "      <td>6</td>\n",
       "      <td>4</td>\n",
       "      <td>13</td>\n",
       "      <td>2018</td>\n",
       "      <td>6</td>\n",
       "      <td>26.728783</td>\n",
       "      <td>not Trend</td>\n",
       "      <td>0</td>\n",
       "      <td>32</td>\n",
       "    </tr>\n",
       "    <tr>\n",
       "      <th>40880</th>\n",
       "      <td>POTgw38-m58</td>\n",
       "      <td>18.14.06</td>\n",
       "      <td>【完整版】遇到恐怖情人該怎麼辦？2018.06.13小明星大跟班</td>\n",
       "      <td>我愛小明星大跟班</td>\n",
       "      <td>24</td>\n",
       "      <td>2018-06-13 16:00:03</td>\n",
       "      <td>吳宗憲|\"吳姍儒\"|\"小明星大跟班\"|\"Sandy\"|\"Jacky wu\"|\"憲哥\"|\"中天...</td>\n",
       "      <td>107392</td>\n",
       "      <td>300</td>\n",
       "      <td>62</td>\n",
       "      <td>...</td>\n",
       "      <td>14</td>\n",
       "      <td>6</td>\n",
       "      <td>16</td>\n",
       "      <td>13</td>\n",
       "      <td>2018</td>\n",
       "      <td>6</td>\n",
       "      <td>0.483807</td>\n",
       "      <td>not Trend</td>\n",
       "      <td>0</td>\n",
       "      <td>32</td>\n",
       "    </tr>\n",
       "  </tbody>\n",
       "</table>\n",
       "<p>81830 rows × 28 columns</p>\n",
       "</div>"
      ],
      "text/plain": [
       "          video_id trending_date  \\\n",
       "0      2kyS6SvSYSE      17.14.11   \n",
       "1      1ZAPwfrtAFY      17.14.11   \n",
       "2      5qpjK5DgCt4      17.14.11   \n",
       "3      puqaWrEC7tY      17.14.11   \n",
       "4      d380meD0W0M      17.14.11   \n",
       "...            ...           ...   \n",
       "40876  sGolxsMSGfQ      18.14.06   \n",
       "40877  8HNuRNi8t70      18.14.06   \n",
       "40878  GWlKEM3m2EE      18.14.06   \n",
       "40879  lbMKLzQ4cNQ      18.14.06   \n",
       "40880  POTgw38-m58      18.14.06   \n",
       "\n",
       "                                                   title  \\\n",
       "0                     WE WANT TO TALK ABOUT OUR MARRIAGE   \n",
       "1      The Trump Presidency: Last Week Tonight with J...   \n",
       "2      Racist Superman | Rudy Mancuso, King Bach & Le...   \n",
       "3                       Nickelback Lyrics: Real or Fake?   \n",
       "4                               I Dare You: GOING BALD!?   \n",
       "...                                                  ...   \n",
       "40876                       HOW2: How to Solve a Mystery   \n",
       "40877                   Eli Lik Lik Episode 13 Partie 01   \n",
       "40878  KINGDOM HEARTS III – SQUARE ENIX E3 SHOWCASE 2...   \n",
       "40879                   Trump Advisor Grovels To Trudeau   \n",
       "40880                   【完整版】遇到恐怖情人該怎麼辦？2018.06.13小明星大跟班   \n",
       "\n",
       "               channel_title  category_id        publish_time  \\\n",
       "0               CaseyNeistat           22 2017-11-13 17:13:01   \n",
       "1            LastWeekTonight           24 2017-11-13 07:30:00   \n",
       "2               Rudy Mancuso           23 2017-11-12 19:05:24   \n",
       "3      Good Mythical Morning           24 2017-11-13 11:00:04   \n",
       "4                   nigahiga           24 2017-11-12 18:01:41   \n",
       "...                      ...          ...                 ...   \n",
       "40876        Annoying Orange           24 2018-06-13 18:00:07   \n",
       "40877       Elhiwar Ettounsi           24 2018-06-13 19:01:18   \n",
       "40878         Kingdom Hearts           20 2018-06-11 17:30:53   \n",
       "40879        The Young Turks           25 2018-06-13 04:00:05   \n",
       "40880               我愛小明星大跟班           24 2018-06-13 16:00:03   \n",
       "\n",
       "                                                    tags    views   likes  \\\n",
       "0                                        SHANtell martin   748374   57527   \n",
       "1      last week tonight trump presidency|\"last week ...  2418783   97185   \n",
       "2      racist superman|\"rudy\"|\"mancuso\"|\"king\"|\"bach\"...  3191434  146033   \n",
       "3      rhett and link|\"gmm\"|\"good mythical morning\"|\"...   343168   10172   \n",
       "4      ryan|\"higa\"|\"higatv\"|\"nigahiga\"|\"i dare you\"|\"...  2095731  132235   \n",
       "...                                                  ...      ...     ...   \n",
       "40876  annoying orange|\"funny\"|\"fruit\"|\"talking\"|\"ani...    80685    1701   \n",
       "40877  hkayet tounsia|\"elhiwar ettounsi\"|\"denya okhra...   103339     460   \n",
       "40878  Kingdom Hearts|\"KH3\"|\"Kingdom Hearts 3\"|\"Froze...   773347   25900   \n",
       "40879  180612__TB02SorryExcuse|\"News\"|\"Politics\"|\"The...   115225    2115   \n",
       "40880  吳宗憲|\"吳姍儒\"|\"小明星大跟班\"|\"Sandy\"|\"Jacky wu\"|\"憲哥\"|\"中天...   107392     300   \n",
       "\n",
       "       dislikes  ...  trending_Day trending_Month  publish_hour  publish_day  \\\n",
       "0          2966  ...            14             11            17           13   \n",
       "1          6146  ...            14             11             7           13   \n",
       "2          5339  ...            14             11            19           12   \n",
       "3           666  ...            14             11            11           13   \n",
       "4          1989  ...            14             11            18           12   \n",
       "...         ...  ...           ...            ...           ...          ...   \n",
       "40876        99  ...            14              6            18           13   \n",
       "40877        66  ...            14              6            19           13   \n",
       "40878       224  ...            14              6            17           11   \n",
       "40879       182  ...            14              6             4           13   \n",
       "40880        62  ...            14              6            16           13   \n",
       "\n",
       "       publish_year publish_Month        score  video_type  video_type_no  \\\n",
       "0              2017            11  1131.528370    Trending              1   \n",
       "1              2017            11   461.981128    Trending              1   \n",
       "2              2017            11   353.815380    Trending              1   \n",
       "3              2017            11    57.363326   not Trend              0   \n",
       "4              2017            11  1080.400002    Trending              1   \n",
       "...             ...           ...          ...         ...            ...   \n",
       "40876          2018             6    25.244841   not Trend              0   \n",
       "40877          2018             6     0.178161   not Trend              0   \n",
       "40878          2018             6   128.291548   not Trend              0   \n",
       "40879          2018             6    26.728783   not Trend              0   \n",
       "40880          2018             6     0.483807   not Trend              0   \n",
       "\n",
       "       title_length  \n",
       "0                34  \n",
       "1                62  \n",
       "2                53  \n",
       "3                32  \n",
       "4                24  \n",
       "...             ...  \n",
       "40876            28  \n",
       "40877            32  \n",
       "40878            57  \n",
       "40879            32  \n",
       "40880            32  \n",
       "\n",
       "[81830 rows x 28 columns]"
      ]
     },
     "execution_count": 62,
     "metadata": {},
     "output_type": "execute_result"
    }
   ],
   "source": [
    "video"
   ]
  },
  {
   "cell_type": "markdown",
   "id": "0c278dcd",
   "metadata": {},
   "source": [
    "# Check null values"
   ]
  },
  {
   "cell_type": "code",
   "execution_count": 63,
   "id": "6270a4ca",
   "metadata": {},
   "outputs": [
    {
     "data": {
      "text/plain": [
       "video_id                     0\n",
       "trending_date                0\n",
       "title                        0\n",
       "channel_title                0\n",
       "category_id                  0\n",
       "publish_time                 0\n",
       "tags                         0\n",
       "views                        0\n",
       "likes                        0\n",
       "dislikes                     0\n",
       "comment_count                0\n",
       "thumbnail_link               0\n",
       "comments_disabled            0\n",
       "ratings_disabled             0\n",
       "video_error_or_removed       0\n",
       "description               1866\n",
       "country                      0\n",
       "trending_Year                0\n",
       "trending_Day                 0\n",
       "trending_Month               0\n",
       "publish_hour                 0\n",
       "publish_day                  0\n",
       "publish_year                 0\n",
       "publish_Month                0\n",
       "score                        0\n",
       "video_type                   0\n",
       "video_type_no                0\n",
       "title_length                 0\n",
       "dtype: int64"
      ]
     },
     "execution_count": 63,
     "metadata": {},
     "output_type": "execute_result"
    }
   ],
   "source": [
    "video.isna().sum()"
   ]
  },
  {
   "cell_type": "code",
   "execution_count": 64,
   "id": "fba1904c",
   "metadata": {},
   "outputs": [
    {
     "data": {
      "text/plain": [
       "video_id                  28512\n",
       "trending_date               205\n",
       "title                     28748\n",
       "channel_title              6251\n",
       "category_id                  17\n",
       "publish_time              27440\n",
       "tags                      24038\n",
       "views                     75352\n",
       "likes                     42785\n",
       "dislikes                  10008\n",
       "comment_count             16760\n",
       "thumbnail_link            28507\n",
       "comments_disabled             2\n",
       "ratings_disabled              2\n",
       "video_error_or_removed        2\n",
       "description               26898\n",
       "country                       2\n",
       "trending_Year                 2\n",
       "trending_Day                 31\n",
       "trending_Month                8\n",
       "publish_hour                 24\n",
       "publish_day                  31\n",
       "publish_year                 12\n",
       "publish_Month                12\n",
       "score                     77324\n",
       "video_type                    2\n",
       "video_type_no                 2\n",
       "title_length                100\n",
       "dtype: int64"
      ]
     },
     "execution_count": 64,
     "metadata": {},
     "output_type": "execute_result"
    }
   ],
   "source": [
    "video.nunique()"
   ]
  },
  {
   "cell_type": "code",
   "execution_count": 65,
   "id": "66653401",
   "metadata": {
    "scrolled": true
   },
   "outputs": [
    {
     "data": {
      "text/html": [
       "<div>\n",
       "<style scoped>\n",
       "    .dataframe tbody tr th:only-of-type {\n",
       "        vertical-align: middle;\n",
       "    }\n",
       "\n",
       "    .dataframe tbody tr th {\n",
       "        vertical-align: top;\n",
       "    }\n",
       "\n",
       "    .dataframe thead th {\n",
       "        text-align: right;\n",
       "    }\n",
       "</style>\n",
       "<table border=\"1\" class=\"dataframe\">\n",
       "  <thead>\n",
       "    <tr style=\"text-align: right;\">\n",
       "      <th></th>\n",
       "      <th>category_id</th>\n",
       "      <th>views</th>\n",
       "      <th>likes</th>\n",
       "      <th>dislikes</th>\n",
       "      <th>comment_count</th>\n",
       "      <th>trending_Year</th>\n",
       "      <th>trending_Day</th>\n",
       "      <th>trending_Month</th>\n",
       "      <th>publish_hour</th>\n",
       "      <th>publish_day</th>\n",
       "      <th>publish_year</th>\n",
       "      <th>publish_Month</th>\n",
       "      <th>score</th>\n",
       "      <th>title_length</th>\n",
       "    </tr>\n",
       "  </thead>\n",
       "  <tbody>\n",
       "    <tr>\n",
       "      <th>count</th>\n",
       "      <td>81830.000000</td>\n",
       "      <td>8.183000e+04</td>\n",
       "      <td>8.183000e+04</td>\n",
       "      <td>8.183000e+04</td>\n",
       "      <td>8.183000e+04</td>\n",
       "      <td>81830.000000</td>\n",
       "      <td>81830.000000</td>\n",
       "      <td>81830.000000</td>\n",
       "      <td>81830.000000</td>\n",
       "      <td>81830.000000</td>\n",
       "      <td>81830.000000</td>\n",
       "      <td>81830.000000</td>\n",
       "      <td>81830.000000</td>\n",
       "      <td>81830.000000</td>\n",
       "    </tr>\n",
       "    <tr>\n",
       "      <th>mean</th>\n",
       "      <td>20.383649</td>\n",
       "      <td>1.754415e+06</td>\n",
       "      <td>5.693911e+04</td>\n",
       "      <td>2.861005e+03</td>\n",
       "      <td>6.746303e+03</td>\n",
       "      <td>17.765465</td>\n",
       "      <td>15.855554</td>\n",
       "      <td>5.233521</td>\n",
       "      <td>13.788659</td>\n",
       "      <td>15.852035</td>\n",
       "      <td>2017.733728</td>\n",
       "      <td>5.280313</td>\n",
       "      <td>311.337429</td>\n",
       "      <td>51.141586</td>\n",
       "    </tr>\n",
       "    <tr>\n",
       "      <th>std</th>\n",
       "      <td>7.194716</td>\n",
       "      <td>5.785451e+06</td>\n",
       "      <td>1.879156e+05</td>\n",
       "      <td>2.455480e+04</td>\n",
       "      <td>3.060427e+04</td>\n",
       "      <td>0.423710</td>\n",
       "      <td>8.849903</td>\n",
       "      <td>3.825740</td>\n",
       "      <td>6.563316</td>\n",
       "      <td>8.620037</td>\n",
       "      <td>0.537253</td>\n",
       "      <td>3.884086</td>\n",
       "      <td>1873.842596</td>\n",
       "      <td>21.080640</td>\n",
       "    </tr>\n",
       "    <tr>\n",
       "      <th>min</th>\n",
       "      <td>1.000000</td>\n",
       "      <td>5.490000e+02</td>\n",
       "      <td>0.000000e+00</td>\n",
       "      <td>0.000000e+00</td>\n",
       "      <td>0.000000e+00</td>\n",
       "      <td>17.000000</td>\n",
       "      <td>1.000000</td>\n",
       "      <td>1.000000</td>\n",
       "      <td>0.000000</td>\n",
       "      <td>1.000000</td>\n",
       "      <td>2006.000000</td>\n",
       "      <td>1.000000</td>\n",
       "      <td>-40225.900887</td>\n",
       "      <td>1.000000</td>\n",
       "    </tr>\n",
       "    <tr>\n",
       "      <th>25%</th>\n",
       "      <td>17.000000</td>\n",
       "      <td>1.781945e+05</td>\n",
       "      <td>3.301000e+03</td>\n",
       "      <td>1.360000e+02</td>\n",
       "      <td>5.050000e+02</td>\n",
       "      <td>18.000000</td>\n",
       "      <td>8.000000</td>\n",
       "      <td>2.000000</td>\n",
       "      <td>10.000000</td>\n",
       "      <td>8.000000</td>\n",
       "      <td>2017.000000</td>\n",
       "      <td>2.000000</td>\n",
       "      <td>6.254875</td>\n",
       "      <td>35.000000</td>\n",
       "    </tr>\n",
       "    <tr>\n",
       "      <th>50%</th>\n",
       "      <td>24.000000</td>\n",
       "      <td>4.961600e+05</td>\n",
       "      <td>1.283400e+04</td>\n",
       "      <td>4.380000e+02</td>\n",
       "      <td>1.550000e+03</td>\n",
       "      <td>18.000000</td>\n",
       "      <td>16.000000</td>\n",
       "      <td>4.000000</td>\n",
       "      <td>15.000000</td>\n",
       "      <td>16.000000</td>\n",
       "      <td>2018.000000</td>\n",
       "      <td>4.000000</td>\n",
       "      <td>36.262489</td>\n",
       "      <td>48.000000</td>\n",
       "    </tr>\n",
       "    <tr>\n",
       "      <th>75%</th>\n",
       "      <td>24.000000</td>\n",
       "      <td>1.355388e+06</td>\n",
       "      <td>4.096175e+04</td>\n",
       "      <td>1.421000e+03</td>\n",
       "      <td>4.626000e+03</td>\n",
       "      <td>18.000000</td>\n",
       "      <td>23.000000</td>\n",
       "      <td>6.000000</td>\n",
       "      <td>19.000000</td>\n",
       "      <td>23.000000</td>\n",
       "      <td>2018.000000</td>\n",
       "      <td>6.000000</td>\n",
       "      <td>158.669419</td>\n",
       "      <td>65.000000</td>\n",
       "    </tr>\n",
       "    <tr>\n",
       "      <th>max</th>\n",
       "      <td>43.000000</td>\n",
       "      <td>2.252119e+08</td>\n",
       "      <td>5.613827e+06</td>\n",
       "      <td>1.674420e+06</td>\n",
       "      <td>1.361580e+06</td>\n",
       "      <td>18.000000</td>\n",
       "      <td>31.000000</td>\n",
       "      <td>12.000000</td>\n",
       "      <td>23.000000</td>\n",
       "      <td>31.000000</td>\n",
       "      <td>2018.000000</td>\n",
       "      <td>12.000000</td>\n",
       "      <td>73473.159904</td>\n",
       "      <td>100.000000</td>\n",
       "    </tr>\n",
       "  </tbody>\n",
       "</table>\n",
       "</div>"
      ],
      "text/plain": [
       "        category_id         views         likes      dislikes  comment_count  \\\n",
       "count  81830.000000  8.183000e+04  8.183000e+04  8.183000e+04   8.183000e+04   \n",
       "mean      20.383649  1.754415e+06  5.693911e+04  2.861005e+03   6.746303e+03   \n",
       "std        7.194716  5.785451e+06  1.879156e+05  2.455480e+04   3.060427e+04   \n",
       "min        1.000000  5.490000e+02  0.000000e+00  0.000000e+00   0.000000e+00   \n",
       "25%       17.000000  1.781945e+05  3.301000e+03  1.360000e+02   5.050000e+02   \n",
       "50%       24.000000  4.961600e+05  1.283400e+04  4.380000e+02   1.550000e+03   \n",
       "75%       24.000000  1.355388e+06  4.096175e+04  1.421000e+03   4.626000e+03   \n",
       "max       43.000000  2.252119e+08  5.613827e+06  1.674420e+06   1.361580e+06   \n",
       "\n",
       "       trending_Year  trending_Day  trending_Month  publish_hour  \\\n",
       "count   81830.000000  81830.000000    81830.000000  81830.000000   \n",
       "mean       17.765465     15.855554        5.233521     13.788659   \n",
       "std         0.423710      8.849903        3.825740      6.563316   \n",
       "min        17.000000      1.000000        1.000000      0.000000   \n",
       "25%        18.000000      8.000000        2.000000     10.000000   \n",
       "50%        18.000000     16.000000        4.000000     15.000000   \n",
       "75%        18.000000     23.000000        6.000000     19.000000   \n",
       "max        18.000000     31.000000       12.000000     23.000000   \n",
       "\n",
       "        publish_day  publish_year  publish_Month         score  title_length  \n",
       "count  81830.000000  81830.000000   81830.000000  81830.000000  81830.000000  \n",
       "mean      15.852035   2017.733728       5.280313    311.337429     51.141586  \n",
       "std        8.620037      0.537253       3.884086   1873.842596     21.080640  \n",
       "min        1.000000   2006.000000       1.000000 -40225.900887      1.000000  \n",
       "25%        8.000000   2017.000000       2.000000      6.254875     35.000000  \n",
       "50%       16.000000   2018.000000       4.000000     36.262489     48.000000  \n",
       "75%       23.000000   2018.000000       6.000000    158.669419     65.000000  \n",
       "max       31.000000   2018.000000      12.000000  73473.159904    100.000000  "
      ]
     },
     "execution_count": 65,
     "metadata": {},
     "output_type": "execute_result"
    }
   ],
   "source": [
    "video.describe()"
   ]
  },
  {
   "cell_type": "markdown",
   "id": "a2bac330",
   "metadata": {},
   "source": [
    "# Check duplicated values"
   ]
  },
  {
   "cell_type": "code",
   "execution_count": 66,
   "id": "0203cad6",
   "metadata": {},
   "outputs": [
    {
     "data": {
      "text/plain": [
       "True"
      ]
     },
     "execution_count": 66,
     "metadata": {},
     "output_type": "execute_result"
    }
   ],
   "source": [
    "video.duplicated().values.any()"
   ]
  },
  {
   "cell_type": "code",
   "execution_count": 67,
   "id": "b3f5e06c",
   "metadata": {},
   "outputs": [
    {
     "data": {
      "text/plain": [
       "48"
      ]
     },
     "execution_count": 67,
     "metadata": {},
     "output_type": "execute_result"
    }
   ],
   "source": [
    "video.duplicated().sum()"
   ]
  },
  {
   "cell_type": "code",
   "execution_count": 68,
   "id": "8112615d",
   "metadata": {},
   "outputs": [
    {
     "data": {
      "text/plain": [
       "(81782, 28)"
      ]
     },
     "execution_count": 68,
     "metadata": {},
     "output_type": "execute_result"
    }
   ],
   "source": [
    "video = video.drop_duplicates()\n",
    "video.shape"
   ]
  },
  {
   "cell_type": "code",
   "execution_count": 69,
   "id": "61e885d2",
   "metadata": {},
   "outputs": [
    {
     "data": {
      "text/plain": [
       "False"
      ]
     },
     "execution_count": 69,
     "metadata": {},
     "output_type": "execute_result"
    }
   ],
   "source": [
    "video.duplicated().values.any()"
   ]
  },
  {
   "cell_type": "markdown",
   "id": "b5249b0b",
   "metadata": {},
   "source": [
    "# Evaluation metrics  is: Recall"
   ]
  },
  {
   "cell_type": "markdown",
   "id": "c7d2fb59",
   "metadata": {},
   "source": [
    "# Moudel"
   ]
  },
  {
   "cell_type": "code",
   "execution_count": 70,
   "id": "52853eba",
   "metadata": {},
   "outputs": [],
   "source": [
    "video_train, video_test = train_test_split(video, test_size=0.2,random_state=0)"
   ]
  },
  {
   "cell_type": "code",
   "execution_count": 71,
   "id": "214f514c",
   "metadata": {},
   "outputs": [
    {
     "data": {
      "text/plain": [
       "(65425, 28)"
      ]
     },
     "execution_count": 71,
     "metadata": {},
     "output_type": "execute_result"
    }
   ],
   "source": [
    "video_train.shape"
   ]
  },
  {
   "cell_type": "code",
   "execution_count": 72,
   "id": "015c5927",
   "metadata": {},
   "outputs": [
    {
     "data": {
      "text/plain": [
       "(16357, 28)"
      ]
     },
     "execution_count": 72,
     "metadata": {},
     "output_type": "execute_result"
    }
   ],
   "source": [
    "video_test.shape"
   ]
  },
  {
   "cell_type": "markdown",
   "id": "a94bedc6",
   "metadata": {},
   "source": [
    "### Cross-validation"
   ]
  },
  {
   "cell_type": "code",
   "execution_count": 73,
   "id": "86f479d9",
   "metadata": {},
   "outputs": [],
   "source": [
    "X = video_train[['views','likes','dislikes','comment_count']]\n",
    "y = video_train['video_type_no']"
   ]
  },
  {
   "cell_type": "code",
   "execution_count": 74,
   "id": "5bdd1a97",
   "metadata": {
    "scrolled": true
   },
   "outputs": [
    {
     "name": "stdout",
     "output_type": "stream",
     "text": [
      "Class= 1, n=10998 (16.810087886893392%)\n",
      "Class= 0, n=54427 (83.18991211310662%)\n"
     ]
    }
   ],
   "source": [
    "from collections import Counter\n",
    "counter = Counter(y)\n",
    "for k, v in counter.items():\n",
    "    dist = v / len(y) * 100 \n",
    "    print(f\"Class= {k}, n={v} ({dist}%)\")"
   ]
  },
  {
   "cell_type": "code",
   "execution_count": 75,
   "id": "8245b04a",
   "metadata": {},
   "outputs": [
    {
     "data": {
      "text/plain": [
       "<BarContainer object of 2 artists>"
      ]
     },
     "execution_count": 75,
     "metadata": {},
     "output_type": "execute_result"
    },
    {
     "data": {
      "image/png": "[encoded data removed]",
      "text/plain": [
       "<Figure size 1152x576 with 1 Axes>"
      ]
     },
     "metadata": {
      "needs_background": "light"
     },
     "output_type": "display_data"
    }
   ],
   "source": [
    "plt.figure(1, figsize=(16,8))\n",
    "plt.bar(counter.keys(),counter.values())"
   ]
  },
  {
   "cell_type": "markdown",
   "id": "90f186b6",
   "metadata": {},
   "source": [
    "## SMOTE"
   ]
  },
  {
   "cell_type": "code",
   "execution_count": 76,
   "id": "96518f10",
   "metadata": {},
   "outputs": [],
   "source": [
    "from imblearn.over_sampling import SMOTE\n",
    "oversample = SMOTE(random_state = 0)\n",
    "X, y = oversample.fit_resample(X, y)"
   ]
  },
  {
   "cell_type": "code",
   "execution_count": 77,
   "id": "2a426e30",
   "metadata": {
    "scrolled": true
   },
   "outputs": [
    {
     "name": "stdout",
     "output_type": "stream",
     "text": [
      "Class= 1, n=54427 (50.0%)\n",
      "Class= 0, n=54427 (50.0%)\n"
     ]
    }
   ],
   "source": [
    "from collections import Counter\n",
    "counter = Counter(y)\n",
    "for k, v in counter.items():\n",
    "    dist = v / len(y) * 100 \n",
    "    print(f\"Class= {k}, n={v} ({dist}%)\")"
   ]
  },
  {
   "cell_type": "code",
   "execution_count": 78,
   "id": "dd658b37",
   "metadata": {},
   "outputs": [
    {
     "data": {
      "text/plain": [
       "<BarContainer object of 2 artists>"
      ]
     },
     "execution_count": 78,
     "metadata": {},
     "output_type": "execute_result"
    },
    {
     "data": {
      "image/png": "[encoded data removed]",
      "text/plain": [
       "<Figure size 1152x576 with 1 Axes>"
      ]
     },
     "metadata": {
      "needs_background": "light"
     },
     "output_type": "display_data"
    }
   ],
   "source": [
    "plt.figure(1, figsize=(16,8))\n",
    "plt.bar(counter.keys(),counter.values())"
   ]
  },
  {
   "cell_type": "markdown",
   "id": "f728376a",
   "metadata": {},
   "source": [
    "## KNN"
   ]
  },
  {
   "cell_type": "code",
   "execution_count": 79,
   "id": "d22080f1",
   "metadata": {},
   "outputs": [
    {
     "name": "stdout",
     "output_type": "stream",
     "text": [
      "[0.97780979 0.9777138  0.97642629 0.97619593 0.97886343]\n"
     ]
    }
   ],
   "source": [
    "model1 = KNeighborsClassifier(n_neighbors=5)\n",
    "scores = cross_val_score(model1, X, y, cv=5, n_jobs=-1, scoring='f1_macro')\n",
    "print(scores)"
   ]
  },
  {
   "cell_type": "code",
   "execution_count": 80,
   "id": "11788740",
   "metadata": {},
   "outputs": [
    {
     "name": "stdout",
     "output_type": "stream",
     "text": [
      "0.9774018481022922\n"
     ]
    }
   ],
   "source": [
    "print(scores.mean())"
   ]
  },
  {
   "cell_type": "markdown",
   "id": "15d2ea82",
   "metadata": {},
   "source": [
    "## Logistic Regression"
   ]
  },
  {
   "cell_type": "code",
   "execution_count": 81,
   "id": "7d5400a5",
   "metadata": {},
   "outputs": [
    {
     "name": "stdout",
     "output_type": "stream",
     "text": [
      "[0.61615169 0.59739364 0.60249422 0.60131549 0.60337928]\n"
     ]
    }
   ],
   "source": [
    "model2 = LogisticRegression() \n",
    "scores = cross_val_score(model2, X, y, cv=5, n_jobs=-1, scoring='f1_macro')\n",
    "print(scores)"
   ]
  },
  {
   "cell_type": "code",
   "execution_count": 82,
   "id": "4ac49241",
   "metadata": {},
   "outputs": [
    {
     "name": "stdout",
     "output_type": "stream",
     "text": [
      "0.6041468625563315\n"
     ]
    }
   ],
   "source": [
    "print(scores.mean())\n"
   ]
  },
  {
   "cell_type": "code",
   "execution_count": 83,
   "id": "a9947a8b",
   "metadata": {},
   "outputs": [],
   "source": [
    "from sklearn.datasets import make_classification"
   ]
  },
  {
   "cell_type": "markdown",
   "id": "e691023b",
   "metadata": {},
   "source": [
    "# # "
   ]
  },
  {
   "cell_type": "code",
   "execution_count": 84,
   "id": "73ac4001",
   "metadata": {},
   "outputs": [
    {
     "name": "stdout",
     "output_type": "stream",
     "text": [
      "train -  [30  3]   |   test -  [15  2]\n",
      "train -  [30  3]   |   test -  [15  2]\n",
      "train -  [30  4]   |   test -  [15  1]\n",
      "_______\n",
      "train -  [28  5]   |   test -  [17]\n",
      "train -  [28  5]   |   test -  [17]\n",
      "train -  [34]   |   test -  [11  5]\n"
     ]
    }
   ],
   "source": [
    "from sklearn.model_selection import StratifiedKFold, KFold\n",
    "import numpy as np\n",
    "X, y = np.ones((50, 1)), np.hstack(([0] * 45, [1] * 5))\n",
    "#print(X ,y)\n",
    "skf = StratifiedKFold(n_splits=3)\n",
    "for train, test in skf.split(X, y):\n",
    "     print('train -  {}   |   test -  {}'.format(\n",
    "     np.bincount(y[train]), np.bincount(y[test])))\n",
    "print(\"_______\")        \n",
    "kf = KFold(n_splits=3)\n",
    "for train, test in kf.split(X, y):\n",
    "    print('train -  {}   |   test -  {}'.format(\n",
    "     np.bincount(y[train]), np.bincount(y[test])))"
   ]
  }
 ],
 "metadata": {
  "kernelspec": {
   "display_name": "Python 3",
   "language": "python",
   "name": "python3"
  },
  "language_info": {
   "codemirror_mode": {
    "name": "ipython",
    "version": 3
   },
   "file_extension": ".py",
   "mimetype": "text/x-python",
   "name": "python",
   "nbconvert_exporter": "python",
   "pygments_lexer": "ipython3",
   "version": "3.8.8"
  }
 },
 "nbformat": 4,
 "nbformat_minor": 5
}
